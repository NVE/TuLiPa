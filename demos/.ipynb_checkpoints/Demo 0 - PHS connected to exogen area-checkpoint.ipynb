{
 "cells": [
  {
   "cell_type": "code",
   "execution_count": 211,
   "id": "bc9197e3",
   "metadata": {},
   "outputs": [],
   "source": [
    "using DataFrames, Plots, Statistics, JSON, Clp\n",
    "plotlyjs()\n",
    "include(joinpath(dirname(pwd()),\"src/TuLiPa.jl\")); # using Dates, JuMP, HiGHS, CSV, Clustering"
   ]
  },
  {
   "cell_type": "markdown",
   "id": "f59e4dec",
   "metadata": {},
   "source": [
    "# Demo 0 - PHS connected to exogen area\n",
    "\n",
    "Demo to isolate excessive printout with HiGHS.\n",
    "\n",
    "Pumped hydro storage (PHS) plant with upper and lower reservoir. Can produce and pump water between the two reservoirs with a cost or income from exogen price (same issue when PHS connected to power balance). No inflow to the system so it is fully closed off.\n",
    "\n",
    "Make the problem as small as possible (12 periods/hours)\n",
    "- Can pump at very high efficiency to make the PHS easily profitable during this short timeframe"
   ]
  },
  {
   "cell_type": "markdown",
   "id": "16547393",
   "metadata": {},
   "source": [
    "### Build dataelement for pumped hydro storage plant"
   ]
  },
  {
   "cell_type": "code",
   "execution_count": 248,
   "id": "834d40d6",
   "metadata": {},
   "outputs": [
    {
     "data": {
      "text/plain": [
       "addphs! (generic function with 1 method)"
      ]
     },
     "execution_count": 248,
     "metadata": {},
     "output_type": "execute_result"
    }
   ],
   "source": [
    "function addphs!(elements, name, powerbalance;\n",
    "        eff::Union{Real, Nothing}=nothing, # % (0.8)\n",
    "        prodcap::Union{Real, Nothing}=nothing, # MW\n",
    "        upstoragecap::Union{Real, Nothing}=nothing, # GWh\n",
    "        lowstoragecap::Union{Real, Nothing}=nothing) # GWh\n",
    "    \n",
    "    upstoragebalance = \"UpperStorageBalance_\" * name\n",
    "    lowstoragebalance = \"LowerStorageBalance_\" * name\n",
    "    upstorage = \"UpperStorage_\" * name    \n",
    "    lowstorage = \"LowerStorage_\" * name \n",
    "    prod = \"Prod_\" * name \n",
    "    pump = \"Pump_\" * name\n",
    "    \n",
    "    # Balance\n",
    "    push!(elements,getelement(BALANCE_CONCEPT,\"BaseBalance\",upstoragebalance,\n",
    "          (COMMODITY_CONCEPT,\"Hydro\")))\n",
    "    push!(elements,getelement(BALANCE_CONCEPT,\"BaseBalance\",lowstoragebalance,\n",
    "          (COMMODITY_CONCEPT,\"Hydro\")))\n",
    "\n",
    "    # Upper storage\n",
    "    push!(elements,getelement(STORAGE_CONCEPT,\"BaseStorage\",upstorage,\n",
    "          (BALANCE_CONCEPT,upstoragebalance)))\n",
    "\n",
    "    if upstoragecap != nothing # If the capacity is constant for all scenarios\n",
    "        upstoragecap = float(upstoragecap)\n",
    "        @assert upstoragecap >= 0\n",
    "    else\n",
    "        upstoragecap = \"UpCapStorage_\" + name\n",
    "    end\n",
    "    push!(elements,getelement(CAPACITY_CONCEPT,\"PositiveCapacity\",\"UpCapacity_\" * name,\n",
    "          (BOUNDKEY,\"Upper\"),\n",
    "          (PARAM_CONCEPT,upstoragecap),\n",
    "          (WHICHINSTANCE,upstorage),\n",
    "          (WHICHCONCEPT,STORAGE_CONCEPT)))\n",
    "    \n",
    "    push!(elements, getelement(BOUNDARYCONDITION_CONCEPT, \"StartEqualStop\", \"StartEqualStop_\" * upstorage,\n",
    "            (WHICHINSTANCE, upstorage),\n",
    "            (WHICHCONCEPT, STORAGE_CONCEPT)))\n",
    "    \n",
    "    # Lower storage\n",
    "    push!(elements,getelement(STORAGE_CONCEPT,\"BaseStorage\",lowstorage,\n",
    "      (BALANCE_CONCEPT,lowstoragebalance)))\n",
    "    \n",
    "    if lowstoragecap != nothing # If the capacity is constant for all scenarios\n",
    "        lowstoragecap = float(lowstoragecap)\n",
    "        @assert lowstoragecap >= 0\n",
    "    else\n",
    "        lowstoragecap = \"LowCapStorage_\" + name\n",
    "    end\n",
    "    push!(elements,getelement(CAPACITY_CONCEPT,\"PositiveCapacity\",\"LowCapacity_\" * name,\n",
    "          (BOUNDKEY,\"Upper\"),\n",
    "          (PARAM_CONCEPT,lowstoragecap),\n",
    "          (WHICHINSTANCE,lowstorage),\n",
    "          (WHICHCONCEPT,STORAGE_CONCEPT)))\n",
    "    \n",
    "    push!(elements, getelement(BOUNDARYCONDITION_CONCEPT, \"StartEqualStop\", \"StartEqualStop_\" * lowstorage,\n",
    "            (WHICHINSTANCE, lowstorage),\n",
    "            (WHICHCONCEPT, STORAGE_CONCEPT)))\n",
    "\n",
    "    # Pump\n",
    "    push!(elements,getelement(FLOW_CONCEPT,\"BaseFlow\",pump))\n",
    "\n",
    "    push!(elements,getelement(ARROW_CONCEPT,\"BaseArrow\",\"PowerPumpArrow_\" * name,\n",
    "          (CONVERSION_CONCEPT,1/eff),\n",
    "          (FLOW_CONCEPT,pump),\n",
    "          (BALANCE_CONCEPT,powerbalance),\n",
    "          (DIRECTIONKEY,\"Out\")))\n",
    "    \n",
    "    push!(elements,getelement(ARROW_CONCEPT,\"BaseArrow\",\"InPumpArrow_\" * name,\n",
    "          (CONVERSION_CONCEPT,1.0),\n",
    "          (FLOW_CONCEPT,pump),\n",
    "          (BALANCE_CONCEPT,upstoragebalance),\n",
    "          (DIRECTIONKEY,\"In\")))\n",
    "    \n",
    "    push!(elements,getelement(ARROW_CONCEPT,\"BaseArrow\",\"OutPumpArrow_\" * name,\n",
    "          (CONVERSION_CONCEPT,1.0),\n",
    "          (FLOW_CONCEPT,pump),\n",
    "          (BALANCE_CONCEPT,lowstoragebalance),\n",
    "          (DIRECTIONKEY,\"Out\")))\n",
    "    \n",
    "    if prodcap != nothing # If the capacity is constant for all scenarios\n",
    "        prodcap = float(prodcap)\n",
    "        @assert prodcap >= 0\n",
    "        push!(elements,getelement(PARAM_CONCEPT,\"MWToGWhSeriesParam\", \"CapacityProfile_\" * name,\n",
    "                (\"Level\",prodcap),\n",
    "                (\"Profile\",1.0)))\n",
    "    end\n",
    "    \n",
    "    push!(elements,getelement(CAPACITY_CONCEPT,\"PositiveCapacity\",\"PumpCapacity_\" * name,\n",
    "            (BOUNDKEY,\"Upper\"),\n",
    "            (PARAM_CONCEPT,\"CapacityProfile_\" * name),\n",
    "            (WHICHINSTANCE,pump),\n",
    "            (WHICHCONCEPT,FLOW_CONCEPT)))\n",
    "    \n",
    "    # Prod\n",
    "    push!(elements,getelement(FLOW_CONCEPT,\"BaseFlow\",prod))\n",
    "\n",
    "    push!(elements,getelement(ARROW_CONCEPT,\"BaseArrow\",\"PowerProdArrow_\" * name,\n",
    "          (CONVERSION_CONCEPT,1.0),\n",
    "          (FLOW_CONCEPT,prod),\n",
    "          (BALANCE_CONCEPT,powerbalance),\n",
    "          (DIRECTIONKEY,\"In\")))\n",
    "    \n",
    "    push!(elements,getelement(ARROW_CONCEPT,\"BaseArrow\",\"InProdArrow_\" * name,\n",
    "          (CONVERSION_CONCEPT,1.0),\n",
    "          (FLOW_CONCEPT,prod),\n",
    "          (BALANCE_CONCEPT,lowstoragebalance),\n",
    "          (DIRECTIONKEY,\"In\")))\n",
    "    \n",
    "    push!(elements,getelement(ARROW_CONCEPT,\"BaseArrow\",\"OutProdArrow_\" * name,\n",
    "          (CONVERSION_CONCEPT,1.0),\n",
    "          (FLOW_CONCEPT,prod),\n",
    "          (BALANCE_CONCEPT,upstoragebalance),\n",
    "          (DIRECTIONKEY,\"Out\")))\n",
    "    \n",
    "    push!(elements,getelement(CAPACITY_CONCEPT,\"PositiveCapacity\",\"ProdCapacity_\" * name,\n",
    "            (BOUNDKEY,\"Upper\"),\n",
    "            (PARAM_CONCEPT,\"CapacityProfile_\" * name),\n",
    "            (WHICHINSTANCE,prod),\n",
    "            (WHICHCONCEPT,FLOW_CONCEPT)))    \n",
    "    elements\n",
    "end"
   ]
  },
  {
   "cell_type": "markdown",
   "id": "9bbd55a9",
   "metadata": {},
   "source": [
    "### Build, update and solve problem"
   ]
  },
  {
   "cell_type": "code",
   "execution_count": 328,
   "id": "2235f15d",
   "metadata": {},
   "outputs": [
    {
     "name": "stdout",
     "output_type": "stream",
     "text": [
      "  0.004427 seconds (48.42 k allocations: 2.029 MiB)\n",
      "  0.001133 seconds (5.56 k allocations: 143.672 KiB)\n",
      "Objective value: -474547.69714560336\n",
      "0; Iter: Time           0; average =           0; Bound =           0\n",
      "100; Iter: Time           0; average =           0; Bound =           0\n",
      "200; Iter: Time           0; average =           0; Bound =           0\n",
      "300; Iter: Time           0; average =           0; Bound =           0\n",
      "400; Iter: Time           0; average =           0; Bound =           0\n"
     ]
    }
   ],
   "source": [
    "# Read exogen price\n",
    "price = JSON.parsefile(\"priceDMK.json\")\n",
    "detdprice = getelements(price);\n",
    "\n",
    "# Add pumped hydro storage plant\n",
    "elements = addphs!(detdprice, \"PHSGER\", \"PowerBalance_GER\", eff=0.99, prodcap=6000, upstoragecap=3000, lowstoragecap=200)\n",
    "\n",
    "# Add horizon to the dataset\n",
    "power_horizon = SequentialHorizon(12*20, Hour(1))\n",
    "push!(elements, getelement(COMMODITY_CONCEPT, \"BaseCommodity\", \"Power\", \n",
    "        (HORIZON_CONCEPT, power_horizon)))\n",
    "push!(elements, getelement(COMMODITY_CONCEPT, \"BaseCommodity\", \"Hydro\", \n",
    "        (HORIZON_CONCEPT, power_horizon)))\n",
    "\n",
    "# Select which scenarios to include from the time-series\n",
    "scenarioyearstart = 1981\n",
    "scenarioyearstop = 1996 # price series only goes to 1995\n",
    "push!(elements, getelement(TIMEPERIOD_CONCEPT, \"ScenarioTimePeriod\", \"ScenarioTimePeriod\", \n",
    "        (\"Start\", getisoyearstart(scenarioyearstart)), (\"Stop\", getisoyearstart(scenarioyearstop))))\n",
    "\n",
    "# Add an exogenous price area that the plants and pumps can interact with.\n",
    "push!(elements, getelement(BALANCE_CONCEPT, \"ExogenBalance\", \"PowerBalance_GER\", \n",
    "        (COMMODITY_CONCEPT, \"Power\"),\n",
    "        (PRICE_CONCEPT, \"PriceDMK\")))\n",
    "\n",
    "# Generate modelobjects from dataelements and add boundary conditions to storages\n",
    "modelobjects = getmodelobjects(elements)\n",
    "addStartEqualStopAllStorages!(modelobjects)\n",
    "\n",
    "# Build problem\n",
    "mymodel = JuMP.Model(HiGHS.Optimizer)\n",
    "set_silent(mymodel)\n",
    "@time prob = JuMP_Prob(modelobjects, mymodel)\n",
    "# @time prob = HiGHS_Prob(collect(values(modelobjects)))\n",
    "\n",
    "# Choose scenario and update\n",
    "t = TwoTime(getisoyearstart(2021),getisoyearstart(1981))\n",
    "@time update!(prob, t)\n",
    "\n",
    "# Solve problem\n",
    "solve!(prob)\n",
    "write_to_file(prob.model,\"model.mps\")\n",
    "\n",
    "println(\"Objective value: \", getobjectivevalue(prob));"
   ]
  },
  {
   "cell_type": "markdown",
   "id": "8d21d1cd",
   "metadata": {},
   "source": [
    "### With and without set_silent(model)"
   ]
  },
  {
   "cell_type": "code",
   "execution_count": 332,
   "id": "a619cfff",
   "metadata": {},
   "outputs": [
    {
     "name": "stdout",
     "output_type": "stream",
     "text": [
      "Running HiGHS 1.4.0 [date: 1970-01-01, git hash: bcf6c0b22]\n",
      "Copyright (c) 2022 ERGO-Code under MIT licence terms\n",
      "Presolving model\n",
      "480 rows, 960 cols, 1920 nonzeros\n",
      "0; Iter: Time           0; average =           0; Bound =           0\n",
      "100; Iter: Time           0; average =           0; Bound =           0\n",
      "200; Iter: Time           0; average =           0; Bound =           0\n",
      "300; Iter: Time           0; average =           0; Bound =           0\n",
      "400; Iter: Time           0; average =           0; Bound =           0\n",
      "479 rows, 960 cols, 1916 nonzeros\n",
      "Presolve : Reductions: rows 479(-5); columns 960(-2); elements 1916(-12)\n",
      "Solving the presolved LP\n",
      "Using EKK dual simplex solver - serial\n",
      "  Iteration        Objective     Infeasibilities num(sum)\n",
      "          0     0.0000000000e+00 Ph1: 0(0) 0s\n",
      "        527    -4.7454769715e+05 Pr: 0(0) 0s\n",
      "        527    -4.7454769715e+05 Pr: 0(0) 0s\n",
      "Solving the original LP from the solution after postsolve\n",
      "Model   status      : Optimal\n",
      "Simplex   iterations: 527\n",
      "Objective value     : -4.7454769715e+05\n",
      "HiGHS run time      :          0.01\n"
     ]
    }
   ],
   "source": [
    "model = read_from_file(\"model.mps\")\n",
    "set_optimizer(model, HiGHS.Optimizer)\n",
    "optimize!(model)"
   ]
  },
  {
   "cell_type": "code",
   "execution_count": 333,
   "id": "fa59a011",
   "metadata": {},
   "outputs": [
    {
     "name": "stdout",
     "output_type": "stream",
     "text": [
      "0; Iter: Time           0; average =           0; Bound =           0\n",
      "100; Iter: Time           0; average =           0; Bound =           0\n",
      "200; Iter: Time           0; average =           0; Bound =           0\n",
      "300; Iter: Time           0; average =           0; Bound =           0\n",
      "400; Iter: Time           0; average =           0; Bound =           0\n"
     ]
    }
   ],
   "source": [
    "model = read_from_file(\"model.mps\")\n",
    "set_optimizer(model, HiGHS.Optimizer)\n",
    "set_silent(model)\n",
    "optimize!(model);"
   ]
  },
  {
   "cell_type": "code",
   "execution_count": null,
   "id": "04c9b3b5",
   "metadata": {},
   "outputs": [],
   "source": []
  },
  {
   "cell_type": "code",
   "execution_count": null,
   "id": "0d5fb18b",
   "metadata": {},
   "outputs": [],
   "source": []
  }
 ],
 "metadata": {
  "@webio": {
   "lastCommId": "4a6eb475de214a548b5d6e25a2a1aa9f",
   "lastKernelId": "da8faea3-4351-4a80-9e2f-b3b7754dae8f"
  },
  "kernelspec": {
   "display_name": "Julia 1.7.3",
   "language": "julia",
   "name": "julia-1.7"
  },
  "language_info": {
   "file_extension": ".jl",
   "mimetype": "application/julia",
   "name": "julia",
   "version": "1.7.3"
  }
 },
 "nbformat": 4,
 "nbformat_minor": 5
}
