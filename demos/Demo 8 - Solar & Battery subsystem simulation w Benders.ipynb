{
 "cells": [
  {
   "cell_type": "code",
   "execution_count": 41,
   "id": "8eb1d193",
   "metadata": {},
   "outputs": [],
   "source": [
    "using DataFrames, Plots, Statistics, JSON, Distributed\n",
    "#plotlyjs() uncomment for interactive plots"
   ]
  },
  {
   "cell_type": "code",
   "execution_count": 42,
   "id": "1305fc90",
   "metadata": {},
   "outputs": [],
   "source": [
    "include(joinpath(dirname(pwd()),\"src/TuLiPa.jl\"));"
   ]
  },
  {
   "cell_type": "code",
   "execution_count": 43,
   "id": "1e80c767",
   "metadata": {},
   "outputs": [],
   "source": [
    "include(joinpath(dirname(dirname(dirname(pwd()))),\"datasett/JulES/src/JulES.jl\")); # also use some code from JulES"
   ]
  },
  {
   "cell_type": "markdown",
   "id": "1ef7b777",
   "metadata": {},
   "source": [
    "# Demo 8 - Solar & Battery subsystem simulation w Benders"
   ]
  },
  {
   "cell_type": "markdown",
   "id": "48af6a6f",
   "metadata": {},
   "source": [
    "Demo 8 simulates a solar plant and a battery against an exogen area. The solar production can either be used to charge the battery or can be sold to the market. The battery can also exchange power with the power market.\n",
    "\n",
    "The simulation algorithm is a fan simulator that solves a two-stage stochastic optimization problem with Benders decomposition for each time step. The time steps and master problems are 2 days long, and the scenario problems are 5 days long and consider uncertainty from 15 weather scenarios.\n",
    "\n",
    "The demo also shows how to build the dataset. We use the solar profile from https://www.nve.no/energi/analyser-og-statistikk/vaerdatasett-for-kraftsystemmodellene/. The price for the exogen area is generated in 1.6 in Demo 2 (TODO: replace price with HydroCen price series)."
   ]
  },
  {
   "cell_type": "markdown",
   "id": "ccf98105",
   "metadata": {},
   "source": [
    "### Starting point and scenario settings\n",
    "- Start point model year 2025 and weather scenario 1981\n",
    "- Series simulation over 15 years with moving horizons and two day time steps, and 5 days long scenario problems.\n",
    "- Hourly time resolution for power market and battery\n",
    "- 15 weather years considered for uncertainty\n",
    "- Scenarios are phased in after two days\n",
    "    - First two days have perfect information from starting point scenario\n",
    "    - Next 5 days combines starting point scenario and scenario X. Smooth transition.\n",
    "    - After 5 days the starting point scenario is fully phased out."
   ]
  },
  {
   "cell_type": "code",
   "execution_count": 44,
   "id": "0d4c9c82",
   "metadata": {},
   "outputs": [],
   "source": [
    "datayear = 2025\n",
    "scenarioyearstart = 1981\n",
    "scenarioyearstop = 1996\n",
    "numscen = 15 # scenarios to consider uncertainty for\n",
    "\n",
    "phaseinoffsetdays = 2 # also simulation step and master problem length\n",
    "totaldays = 7 # length of master + scenarioproblem\n",
    "# master/sub - period duration - commodity (power, hydro)\n",
    "mpdp = Millisecond(Hour(1)); # power/battery time resolution in masterproblem\n",
    "mpdh = Millisecond(Hour(24)); # hydro time resolution in masterproblem (not used here)\n",
    "spdp = Millisecond(Hour(1)); # power/battery time resolution in scenarioproblems\n",
    "spdh = Millisecond(Hour(24)); # hydro time resolution in scenarioproblems (not used here)\n",
    "timeresolutioninfo = (totaldays, phaseinoffsetdays, mpdp, mpdh, spdp, spdh);\n",
    "\n",
    "# Simple start time\n",
    "tnormal = FixedDataTwoTime(getisoyearstart(datayear),getisoyearstart(scenarioyearstart)) \n",
    "\n",
    "# Start time that considers in-phasing of uncertainty\n",
    "phaseinoffset = Millisecond(Day(phaseinoffsetdays)) # phase in straight away from second stage scenarios\n",
    "phaseindelta = Millisecond(Day(5)) # Phase in the second stage scenario over 5 days\n",
    "phaseinsteps = 5 # Phase in second stage scenario in 5 steps\n",
    "tphasein = PhaseinTwoTime(getisoyearstart(datayear),getisoyearstart(scenarioyearstart), getisoyearstart(scenarioyearstart), phaseinoffset, phaseindelta, phaseinsteps);"
   ]
  },
  {
   "cell_type": "markdown",
   "id": "3f6cec37",
   "metadata": {},
   "source": [
    "### Make and load dataset"
   ]
  },
  {
   "cell_type": "code",
   "execution_count": 45,
   "id": "ad8db8a1",
   "metadata": {},
   "outputs": [],
   "source": [
    "# Solar, battery and transmission parameters\n",
    "transmcap = 5 # MW\n",
    "transmeff = 0.995 # Small loss to avoid unnecessary transfers\n",
    "storagecap = 0.01 # GWh\n",
    "chargecap = 7.0 # MW\n",
    "lossbattery = 0.075 # the whole loss when the battery charges\n",
    "solarcap = 15.0 # MW\n",
    "\n",
    "# Power balances for price areas and transmission\n",
    "elements = getelements(JSON.parsefile(\"priceDMK.json\"));\n",
    "addexogenbalance!(elements, \"PowerBalance_ExternalHub\", \"Power\", \"PriceDMK\")\n",
    "\n",
    "addbalance!(elements, \"PowerBalance_HomeHub\", \"Power\")\n",
    "\n",
    "addpowertrans!(elements, \"PowerBalance_ExternalHub\", \"PowerBalance_HomeHub\", transmcap, transmeff)\n",
    "addpowertrans!(elements, \"PowerBalance_HomeHub\", \"PowerBalance_ExternalHub\", transmcap, transmeff)\n",
    "\n",
    "# Add battery\n",
    "addbattery!(elements, \"Battery\", \"PowerBalance_HomeHub\", storagecap, lossbattery, chargecap)\n",
    "\n",
    "# Add solar production as an RHSTerm\n",
    "path = \"testprofiles_1981_2010.csv\" # profiles from https://www.nve.no/energi/analyser-og-statistikk/vaerdatasett-for-kraftsystemmodellene/\n",
    "dfmt = dateformat\"yyyy-mm-dd HH:MM:SS\"\n",
    "df = CSV.read(path, DataFrame)\n",
    "df.Timestamp = DateTime.(df.Timestamp, dfmt)\n",
    "@assert issorted(df.Timestamp)\n",
    "start = first(df.Timestamp)\n",
    "numperiods = length(df.Timestamp)\n",
    "push!(elements, DataElement(TIMEINDEX_CONCEPT, \"RangeTimeIndex\", \"SolProfileTimeIndex\", \n",
    "        Dict(\"Start\" => start, \"Delta\" => Hour(1), \"Steps\" => numperiods)))\n",
    "push!(elements, DataElement(TIMEVALUES_CONCEPT, \"VectorTimeValues\", \"SolProfilValues\",\n",
    "        Dict(\"Vector\" => df.SolarGER)))\n",
    "push!(elements, DataElement(TIMEVECTOR_CONCEPT, \"RotatingTimeVector\", \"SolProfil\",\n",
    "        Dict(TIMEVALUES_CONCEPT => \"SolProfilValues\", TIMEINDEX_CONCEPT => \"SolProfileTimeIndex\")))\n",
    "push!(elements, DataElement(PARAM_CONCEPT, \"MWToGWhSeriesParam\", \"SolParam\", Dict(\"Level\" => solarcap, \"Profile\" => \"SolProfil\")))\n",
    "addrhsterm!(elements, \"SolParam\", \"PowerBalance_HomeHub\", DIRECTIONIN)\n",
    "\n",
    "# Add scenariotimeperiod. Only data from weather scenarios 1981-1995 is read.\n",
    "addscenariotimeperiod!(elements, scenarioyearstart, scenarioyearstop);"
   ]
  },
  {
   "cell_type": "markdown",
   "id": "ca15f341",
   "metadata": {},
   "source": [
    "### Add horizons and make master and subobjects"
   ]
  },
  {
   "cell_type": "code",
   "execution_count": 46,
   "id": "dd7270f3",
   "metadata": {
    "scrolled": false
   },
   "outputs": [],
   "source": [
    "function singlemakestochasticobjects(elements, days, offset, pdp, pdh)\n",
    "    \n",
    "    # Add horizons to elements\n",
    "    power_horizon = SequentialHorizon(ceil(Int64, Day(days)/pdp), pdp; offset)\n",
    "    hydro_horizon = SequentialHorizon(ceil(Int64, Day(days)/pdh), pdh; offset)\n",
    "\n",
    "    push!(elements, getelement(COMMODITY_CONCEPT, \"BaseCommodity\", \"Power\", \n",
    "            (HORIZON_CONCEPT, power_horizon)))\n",
    "    push!(elements, getelement(COMMODITY_CONCEPT, \"BaseCommodity\", \"Battery\", \n",
    "            (HORIZON_CONCEPT, power_horizon)))\n",
    "    push!(elements, getelement(COMMODITY_CONCEPT, \"BaseCommodity\", \"Hydro\", \n",
    "            (HORIZON_CONCEPT, hydro_horizon)))\n",
    "\n",
    "    # Make modelobjets from elements and group into subsystems\n",
    "    modelobjects = getmodelobjects(elements)\n",
    "    \n",
    "    return collect(values(modelobjects))\n",
    "end\n",
    "\n",
    "function singlemakemastersubobjects!(inputs)\n",
    "    (elements, totaldays, numscen, scenarioyearstart, phaseinoffsetdays, timeresolutioninfo) = inputs\n",
    "    (totaldays, phaseinoffsetdays, mpdp, mpdh, spdp, spdh) = timeresolutioninfo\n",
    "\n",
    "    # Make masterproblem objects\n",
    "    masterobjects = singlemakestochasticobjects(copy(elements), phaseinoffsetdays, nothing, mpdp, mpdh) # TODO: what price scenario price to use here? random? now 1, use of phasein of scenarios gives similar prices in the start of all scenarios?\n",
    "\n",
    "    # Make scenarioproblem objects with offsets\n",
    "    subscenarioobjects = []\n",
    "    for scenario in 1:numscen\n",
    "        offset = ScenarioOffset(MsTimeDelta(Day(phaseinoffsetdays)), MsTimeDelta(getisoyearstart(scenarioyearstart + scenario - 1) - getisoyearstart(scenarioyearstart)))\n",
    "        push!(subscenarioobjects, singlemakestochasticobjects(copy(elements), totaldays - phaseinoffsetdays, offset, spdp, spdh))\n",
    "    end\n",
    "    \n",
    "    return (masterobjects, subscenarioobjects)\n",
    "end\n",
    "\n",
    "inputs = (elements, totaldays, numscen, scenarioyearstart, phaseinoffsetdays, timeresolutioninfo)\n",
    "(masterobjects, subobjects) = singlemakemastersubobjects!(inputs);"
   ]
  },
  {
   "cell_type": "markdown",
   "id": "c53e1afe",
   "metadata": {},
   "source": [
    "### Initialize master and subproblems and run first iteration"
   ]
  },
  {
   "cell_type": "code",
   "execution_count": 47,
   "id": "aeb1c496",
   "metadata": {
    "scrolled": true
   },
   "outputs": [
    {
     "ename": "LoadError",
     "evalue": "MethodError: no method matching stochastic_init(::Vector{Any}, ::Vector{Any}, ::Bool, ::Tuple{Int64, Int64, Dict{Any, Any}}, ::Int64, ::Float64, ::Int64, ::Float64, ::PhaseinTwoTime)\n\n\u001b[0mClosest candidates are:\n\u001b[0m  stochastic_init(::Any, ::Any, ::Any, ::Any, ::Any, ::Any, ::Any, ::Any)\n\u001b[0m\u001b[90m   @\u001b[39m \u001b[35mMain\u001b[39m \u001b[90mC:\\Users\\petoth\\datasett\\JulES\\src\\\u001b[39m\u001b[90m\u001b[4mstochastic.jl:178\u001b[24m\u001b[39m\n",
     "output_type": "error",
     "traceback": [
      "MethodError: no method matching stochastic_init(::Vector{Any}, ::Vector{Any}, ::Bool, ::Tuple{Int64, Int64, Dict{Any, Any}}, ::Int64, ::Float64, ::Int64, ::Float64, ::PhaseinTwoTime)\n\n\u001b[0mClosest candidates are:\n\u001b[0m  stochastic_init(::Any, ::Any, ::Any, ::Any, ::Any, ::Any, ::Any, ::Any)\n\u001b[0m\u001b[90m   @\u001b[39m \u001b[35mMain\u001b[39m \u001b[90mC:\\Users\\petoth\\datasett\\JulES\\src\\\u001b[39m\u001b[90m\u001b[4mstochastic.jl:178\u001b[24m\u001b[39m\n",
      "",
      "Stacktrace:",
      " [1] top-level scope",
      "   @ In[47]:11"
     ]
    }
   ],
   "source": [
    "# Cut parameters\n",
    "maxcuts = 13 # preallocate fixed number of cuts, no cut selection\n",
    "lb = -1e10 # lower bound of the future value in the first iteration\n",
    "reltol = 0.0001 # relative tolerance\n",
    "\n",
    "shortstartstorage = 50 # start and end storage batteries in first time step (not used)\n",
    "medstartstorage = 65 # start and end storage hydro in first time step (not used)\n",
    "medendvaluesdicts = Dict()\n",
    "storageinfo = (shortstartstorage, medstartstorage, medendvaluesdicts)\n",
    "\n",
    "(master, subs, states, cuts) = stochastic_init(masterobjects, subobjects, true, storageinfo, numscen, lb, maxcuts, reltol, tphasein);"
   ]
  },
  {
   "cell_type": "markdown",
   "id": "d9a15d9a",
   "metadata": {},
   "source": [
    "### Collect end state variables for use as start variables in next time step"
   ]
  },
  {
   "cell_type": "code",
   "execution_count": 26,
   "id": "58c1e6d1",
   "metadata": {},
   "outputs": [
    {
     "ename": "LoadError",
     "evalue": "UndefVarError: `master` not defined",
     "output_type": "error",
     "traceback": [
      "UndefVarError: `master` not defined",
      "",
      "Stacktrace:",
      " [1] top-level scope",
      "   @ In[26]:1"
     ]
    }
   ],
   "source": [
    "startstates_ = getstatevariables(master.objects)\n",
    "getoutgoingstates!(master, startstates_)\n",
    "startstates = Dict()\n",
    "for var in keys(startstates_)\n",
    "    startstates[getinstancename(first(getvarout(var)))] = startstates_[var]\n",
    "end"
   ]
  },
  {
   "cell_type": "markdown",
   "id": "78aeb2d2",
   "metadata": {},
   "source": [
    "### Collect results from masterproblem"
   ]
  },
  {
   "cell_type": "code",
   "execution_count": 27,
   "id": "204f30d4",
   "metadata": {},
   "outputs": [
    {
     "ename": "LoadError",
     "evalue": "UndefVarError: `master` not defined",
     "output_type": "error",
     "traceback": [
      "UndefVarError: `master` not defined",
      "",
      "Stacktrace:",
      " [1] top-level scope",
      "   @ In[27]:1"
     ]
    }
   ],
   "source": [
    "masterobjects = Dict(zip([getid(obj) for obj in master.objects],master.objects))\n",
    "resultobjects = master.objects # collect results for all areas\n",
    "prices, rhstermvalues, production, consumption, hydrolevels, batterylevels, powerbalances, rhsterms, rhstermbalances, plants, plantbalances, plantarrows, demands, demandbalances, demandarrows, hydrostorages, batterystorages = init_results(master, masterobjects, resultobjects, Int(Day(phaseinoffsetdays)/mpdp), Int(Day(phaseinoffsetdays)/mpdh), mpdp, tnormal);"
   ]
  },
  {
   "cell_type": "markdown",
   "id": "cbb90c8e",
   "metadata": {},
   "source": [
    "### Simulate next time steps\n",
    "- Simulate next time steps, store results and plot results"
   ]
  },
  {
   "cell_type": "code",
   "execution_count": 28,
   "id": "bdc4775e",
   "metadata": {},
   "outputs": [],
   "source": [
    "function singlestochastic!(master, subs, states, cuts, startstates, medendvaluesdicts, short, numscen, reltol, t)\n",
    "        \n",
    "    # Init cutparameters\n",
    "    cutparameters = Vector{Tuple{Float64, Dict{StateVariableInfo, Float64}}}(undef, length(subs)) # preallocate for cutparameters from subproblems\n",
    "\n",
    "    # Update master\n",
    "    masterstorages = getstorages(master.objects)\n",
    "    setstartstates!(master, masterstorages, startstates)\n",
    "\n",
    "    update!(master, t)\n",
    "\n",
    "    # Update subs\n",
    "    for (i,sub) in enumerate(subs)\n",
    "        \n",
    "        substorages = getstorages(getobjects(sub))\n",
    "        \n",
    "        if short\n",
    "            setendstates!(sub, substorages, startstates) # set end reservoir\n",
    "#         else\n",
    "#             subendvaluesobj = sub.objects[findfirst(x -> getid(x) == Id(BOUNDARYCONDITION_CONCEPT,\"EndValue\"), sub.objects)]\n",
    "#             subendvalues = [medendvaluesdicts[i][getinstancename(getid(obj))] for obj in substorages]\n",
    "#             updateendvalues!(sub, subendvaluesobj, subendvalues)\n",
    "        end\n",
    "\n",
    "        update!(sub, t) # update parameters given problem start time of scenario\n",
    "    end\n",
    "\n",
    "    lb = cuts.lower_bound\n",
    "    ub = 0\n",
    "    cutreuse = true # reuse cut from last time step\n",
    "    iterate_convergence!(master, subs, cuts, cutparameters, states, numscen, cutreuse, lb, ub, reltol)\n",
    "end;"
   ]
  },
  {
   "cell_type": "code",
   "execution_count": 29,
   "id": "b58d5a31",
   "metadata": {},
   "outputs": [],
   "source": [
    "# steps = 16;\n",
    "steps = (getisoyearstart(scenarioyearstop) - getisoyearstart(scenarioyearstart)).value/Millisecond(Day(phaseinoffsetdays)).value;"
   ]
  },
  {
   "cell_type": "code",
   "execution_count": 30,
   "id": "72e14ba3",
   "metadata": {
    "scrolled": true
   },
   "outputs": [
    {
     "ename": "LoadError",
     "evalue": "UndefVarError: `master` not defined",
     "output_type": "error",
     "traceback": [
      "UndefVarError: `master` not defined",
      "",
      "Stacktrace:",
      " [1] macro expansion",
      "   @ .\\In[30]:9 [inlined]",
      " [2] top-level scope",
      "   @ .\\timing.jl:393"
     ]
    }
   ],
   "source": [
    "step = 2\n",
    "tnormal += Day(2) # jump to next time step\n",
    "tphasein = PhaseinTwoTime(getdatatime(tnormal), getscenariotime(tnormal), getscenariotime(tnormal), phaseinoffset, phaseindelta, phaseinsteps)\n",
    "# display(tnormal)\n",
    "\n",
    "totaltime = @elapsed while step <= steps\n",
    "    \n",
    "    # Stochastic sub system\n",
    "    singlestochastic!(master, subs, states, cuts, startstates, medendvaluesdicts, true, numscen, reltol, tphasein)\n",
    "\n",
    "    # Update startstates\n",
    "    startstates_ = getstatevariables(master.objects)\n",
    "    getoutgoingstates!(master, startstates_)\n",
    "    for var in keys(startstates_)\n",
    "        # value = round(startstates_[var], digits=10) # avoid approx 0 negative values, ignored by solvers so no problem?\n",
    "        startstates[getinstancename(first(getvarout(var)))] = startstates_[var]\n",
    "    end\n",
    "    \n",
    "    # Collect results\n",
    "    prices, rhstermvalues, production, consumption, hydrolevels, batterylevels = update_results(master, prices, rhstermvalues, production, consumption, hydrolevels, batterylevels, powerbalances, rhsterms, plants, plantbalances, plantarrows, demands, demandbalances, demandarrows, hydrostorages, batterystorages, masterobjects, Int(Day(phaseinoffsetdays)/mpdp), Int(Day(phaseinoffsetdays)/mpdh), mpdp, tnormal);    \n",
    "    \n",
    "    # Jump to next time step\n",
    "    step += 1\n",
    "    tnormal += Day(2)\n",
    "    tphasein = PhaseinTwoTime(getdatatime(tnormal), getscenariotime(tnormal), getscenariotime(tnormal), phaseinoffset, phaseindelta, phaseinsteps)\n",
    "#     display(tnormal)\n",
    "end\n",
    "\n",
    "display(string(\"The simulation took: \", totaltime/60, \" minutes\"))\n",
    "display(string(\"Time usage per timestep: \", totaltime/steps, \" seconds\"))"
   ]
  },
  {
   "cell_type": "markdown",
   "id": "a14393bd",
   "metadata": {},
   "source": [
    "### Postprocess detailed results\n",
    "- Combine fixed contributions (e.g. wind, solar and demand) together with supply and demand variables\n",
    "- Make time axis for price, supply/demand and reservoir levels"
   ]
  },
  {
   "cell_type": "code",
   "execution_count": 31,
   "id": "455ef907",
   "metadata": {},
   "outputs": [
    {
     "ename": "LoadError",
     "evalue": "UndefVarError: `rhstermvalues` not defined",
     "output_type": "error",
     "traceback": [
      "UndefVarError: `rhstermvalues` not defined",
      "",
      "Stacktrace:",
      " [1] top-level scope",
      "   @ In[31]:2"
     ]
    }
   ],
   "source": [
    "# Only keep rhsterms that have at least one value (TODO: Do the same for sypply and demands)\n",
    "rhstermtotals = dropdims(sum(rhstermvalues,dims=1),dims=1)\n",
    "rhstermsupplyidx = []\n",
    "rhstermdemandidx = []\n",
    "\n",
    "for k in 1:length(rhsterms)\n",
    "    if rhstermtotals[k] > 0\n",
    "        push!(rhstermsupplyidx, k)\n",
    "    elseif rhstermtotals[k] < 0\n",
    "        push!(rhstermdemandidx, k)\n",
    "    end\n",
    "end\n",
    "\n",
    "# Put rhsterms together with supplies and demands\n",
    "rhstermsupplyvalues = rhstermvalues[:,rhstermsupplyidx]\n",
    "rhstermdemandvalues = rhstermvalues[:,rhstermdemandidx]*-1\n",
    "\n",
    "rhstermsupplynames = [getinstancename(rhsterm) for rhsterm in rhsterms[rhstermsupplyidx]]\n",
    "rhstermsupplybalancenames = [split(getinstancename(r), \"PowerBalance_\")[2] for r in rhstermbalances[rhstermsupplyidx]]\n",
    "rhstermdemandnames = [getinstancename(rhsterm) for rhsterm in rhsterms[rhstermdemandidx]]\n",
    "rhstermdemandbalancenames = [split(getinstancename(r), \"PowerBalance_\")[2] for r in rhstermbalances[rhstermdemandidx]]\n",
    "\n",
    "supplynames = [[getinstancename(plant) for plant in plants];rhstermsupplynames]\n",
    "supplybalancenames = [[split(getinstancename(p), \"PowerBalance_\")[2] for p in plantbalances];rhstermsupplybalancenames]\n",
    "supplyvalues = hcat(production,rhstermsupplyvalues)\n",
    "\n",
    "demandnames = [[getinstancename(demand) for demand in demands];rhstermdemandnames]\n",
    "demandbalancenames = [[split(getinstancename(p), \"PowerBalance_\")[2] for p in demandbalances];rhstermdemandbalancenames]\n",
    "demandvalues = hcat(consumption, rhstermdemandvalues)\n",
    "\n",
    "# Prepare for plotting results\n",
    "hydronames = [getinstancename(hydro) for hydro in hydrostorages]\n",
    "batterynames = [getinstancename(battery) for battery in batterystorages]\n",
    "powerbalancenames = [split(getinstancename(getid(powerbalance)), \"PowerBalance_\")[2] for powerbalance in powerbalances]\n",
    "\n",
    "# Time\n",
    "x1 = [getisoyearstart(scenarioyearstart) + mpdp*(t-1) for t in 1:first(size(supplyvalues))] # power/load resolution\n",
    "x2 = [getisoyearstart(scenarioyearstart) + mpdh*(t-1) for t in 1:first(size(hydrolevels))]; # reservoir resolution"
   ]
  },
  {
   "cell_type": "code",
   "execution_count": 32,
   "id": "26ada54a",
   "metadata": {},
   "outputs": [],
   "source": [
    "# folder = \n",
    "# areaprices = rename!(DataFrame(prices, :auto),powerbalancenames)\n",
    "# areaprices[!,:time] = x1\n",
    "# CSV.write(folder * \"prices.csv\", areaprices)\n",
    "\n",
    "# demand = rename!(DataFrame(demandvalues, :auto),demandnames)\n",
    "# demand[!,:time] = x1\n",
    "# demand = stack(demand,Not(:time))\n",
    "# demandcopl = DataFrame(variable=demandnames, area=demandbalancenames)\n",
    "# demand = leftjoin(demand, demandcopl, on=:variable)\n",
    "# CSV.write(folder * \"demand.csv\", demand)\n",
    "\n",
    "# supply = rename!(DataFrame(supplyvalues, :auto),supplynames)\n",
    "# supply[!,:time] = x1\n",
    "# supply = stack(supply,Not(:time))\n",
    "# supplycopl = DataFrame(variable=supplynames, area=supplybalancenames)\n",
    "# supply = leftjoin(supply, supplycopl, on=:variable)\n",
    "# CSV.write(folder * \"supply.csv\", supply)\n",
    "\n",
    "# hydro = rename!(DataFrame(hydrolevels, :auto),hydronames)\n",
    "# hydro[!,:time] = x2\n",
    "# CSV.write(folder * \"hydro.csv\", hydro);\n",
    "\n",
    "# battery = rename!(DataFrame(batterylevels, :auto),batterynames)\n",
    "# battery[!,:time] = x1\n",
    "# CSV.write(folder * \"batteries.csv\", battery);"
   ]
  },
  {
   "cell_type": "code",
   "execution_count": 33,
   "id": "361fe98f",
   "metadata": {
    "scrolled": false
   },
   "outputs": [
    {
     "ename": "LoadError",
     "evalue": "UndefVarError: `prices` not defined",
     "output_type": "error",
     "traceback": [
      "UndefVarError: `prices` not defined",
      "",
      "Stacktrace:",
      " [1] top-level scope",
      "   @ In[33]:2"
     ]
    }
   ],
   "source": [
    "# Plot prices\n",
    "display(plot(x1, prices/1000, labels=reshape(powerbalancenames,1,length(powerbalancenames)), size=(800,500), title=\"Prices\", ylabel=\"€/MWh\"))\n",
    "\n",
    "# # Plot supplies and demands\n",
    "supplychart = plot(x1, supplyvalues,labels=reshape(supplynames,1,length(supplynames)),title=\"Supply\", ylabel = \"GWh/h\")\n",
    "demandchart = plot(x1, demandvalues,labels=reshape(demandnames,1,length(demandnames)),title=\"Demand\", ylabel = \"GWh/h\")\n",
    "display(plot([supplychart,demandchart]...,layout=(1,2),size=(1600,500)))\n",
    "# supplychart = areaplot(x1, sum(supplyvalues,dims=2),title=\"Supply\", ylabel = \"GWh/h\")\n",
    "# demandchart = areaplot(x1, sum(demandvalues,dims=2),title=\"Demand\", ylabel = \"GWh/h\")\n",
    "# display(plot([supplychart,demandchart]...,layout=(1,2),size=(900,500)))\n",
    "\n",
    "# Plot storages\n",
    "# display(areaplot(x2, hydrolevels,labels=reshape(hydronames,1,length(hydronames)),size=(800,500),title=\"Reservoir levels\", ylabel = \"Gm3\")) #\n",
    "display(areaplot(x2, dropdims(sum(hydrolevels,dims=2),dims=2),labels=\"Total reservoirs\",size=(800,500),title=\"Reservoir levels\", ylabel = \"Gm3\")) #\n",
    "\n",
    "display(areaplot(x1, dropdims(sum(batterylevels,dims=2),dims=2),labels=\"Total batteries\",size=(800,500),title=\"Battery levels\", ylabel = \"GWh\")) #\n",
    "\n",
    "# Plot list of yearly mean production and demand for each supply/demand\n",
    "meandemand = dropdims(mean(demandvalues,dims=1),dims=1)\n",
    "meanproduction = dropdims(mean(supplyvalues,dims=1),dims=1)\n",
    "supplydf = sort(DataFrame(Supplyname = supplynames, Yearly_supply_TWh = meanproduction*8.76),[:Yearly_supply_TWh], rev = true)\n",
    "demanddf = sort(DataFrame(Demandname = demandnames, Yearly_demand_TWh = meandemand*8.76),[:Yearly_demand_TWh], rev = true)\n",
    "supplydf[!,:ID] = collect(1:length(supplynames))\n",
    "demanddf[!,:ID] = collect(1:length(demandnames))\n",
    "joineddf = select!(outerjoin(supplydf,demanddf;on=:ID),Not(:ID))\n",
    "show(joineddf,allcols=true, allrows=true)\n",
    "\n",
    "# Check that total supply equals total demand\n",
    "show(combine(joineddf, [:Yearly_supply_TWh, :Yearly_demand_TWh] .=> sum∘skipmissing))"
   ]
  },
  {
   "cell_type": "code",
   "execution_count": null,
   "id": "c145211a",
   "metadata": {},
   "outputs": [],
   "source": []
  }
 ],
 "metadata": {
  "@webio": {
   "lastCommId": null,
   "lastKernelId": null
  },
  "kernelspec": {
   "display_name": "Julia 1.9",
   "language": "julia",
   "name": "julia-1.9"
  },
  "language_info": {
   "file_extension": ".jl",
   "mimetype": "application/julia",
   "name": "julia",
   "version": "1.9.2"
  }
 },
 "nbformat": 4,
 "nbformat_minor": 5
}
