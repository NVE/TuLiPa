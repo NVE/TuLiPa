{
 "cells": [
  {
   "cell_type": "markdown",
   "id": "adc5fb33",
   "metadata": {},
   "source": [
    "Recreates the counter intuitive example from this article, gets the same results\n",
    "\n",
    "https://www.linkedin.com/feed/update/urn:li:activity:7262888835678687232/?commentUrn=urn%3Ali%3Acomment%3A(ugcPost%3A7262888832465846272%2C7263912720486330368)&dashCommentUrn=urn%3Ali%3Afsd_comment%3A(7263912720486330368%2Curn%3Ali%3AugcPost%3A7262888832465846272)&dashReplyUrn=urn%3Ali%3Afsd_comment%3A(7264642840423452672%2Curn%3Ali%3AugcPost%3A7262888832465846272)&replyUrn=urn%3Ali%3Acomment%3A(ugcPost%3A7262888832465846272%2C7264642840423452672)"
   ]
  },
  {
   "cell_type": "code",
   "execution_count": 1,
   "id": "83686f68",
   "metadata": {},
   "outputs": [
    {
     "data": {
      "text/plain": [
       "remove_cap_for_flowbased_transm (generic function with 1 method)"
      ]
     },
     "execution_count": 1,
     "metadata": {},
     "output_type": "execute_result"
    }
   ],
   "source": [
    "include(dirname(dirname(pwd()))*\"\\\\src\\\\TuLiPa.jl\");\n",
    "using .TuLiPa\n",
    "using Dates, DataFrames, CSV, JSON, Plots, JuMP, HiGHS\n",
    "include(dirname(dirname(pwd())) * raw\"\\demos\\other\\flowbased_utils.jl\")"
   ]
  },
  {
   "cell_type": "code",
   "execution_count": 2,
   "id": "61cf14fc",
   "metadata": {},
   "outputs": [
    {
     "data": {
      "text/plain": [
       "make_connection (generic function with 2 methods)"
      ]
     },
     "execution_count": 2,
     "metadata": {},
     "output_type": "execute_result"
    }
   ],
   "source": [
    "PowerA = 100.0\n",
    "PowerA_cap = 1000.0 / 0.024\n",
    "DemandA = 140.0 / 0.024\n",
    "PowerB_cap = 1000.0 / 0.024\n",
    "PowerB = 200.0\n",
    "DemandB = 170.0 / 0.024\n",
    "PowerC_cap = 20.0  / 0.024\n",
    "PowerC = 70.0\n",
    "DemandC = 140.0 / 0.024\n",
    "\n",
    "A = \"A\" #\"PowerBalance_A\"\n",
    "B = \"B\" #\"PowerBalance_B\"\n",
    "C = \"C\" #\"PowerBalance_C\"\n",
    "\n",
    "\n",
    "function make_connection(from, to, prefix = \"\")  \n",
    "    \n",
    "    transm_from = replace(from, (\"PowerBalance_\" => \"\"))\n",
    "    transm_to = replace(to, (\"PowerBalance_\" => \"\"))\n",
    "    \n",
    "    flow_name = \"Transm_$(transm_from)->$(transm_to)\" * prefix\n",
    "    arrow_name_from = \"arrow_from$(from)$(to)\" * prefix\n",
    "    arrow_name_to = \"arrow_to$(from)$(to)\" * prefix\n",
    "    balance_from = \"$(from)\"\n",
    "    balance_to = \"$(to)\"\n",
    "    cap_name = \"$(flow_name)_cap\"\n",
    "    elem = [\n",
    "        DataElement(\"Flow\", \"BaseFlow\", flow_name, Dict()),    \n",
    "        DataElement(\"Arrow\", \"BaseArrow\", arrow_name_from, Dict(\"Balance\" => balance_from, \"Flow\" => flow_name, \"Conversion\" => 1.0, \"Direction\" => \"Out\")),\n",
    "        DataElement(\"Arrow\", \"BaseArrow\", arrow_name_to, Dict(\"Balance\" => balance_to, \"Flow\" => flow_name, \"Conversion\" => 1.0, \"Direction\" => \"In\")),\n",
    "    ]    \n",
    "    return elem\n",
    "end"
   ]
  },
  {
   "cell_type": "code",
   "execution_count": 3,
   "id": "b3d22320",
   "metadata": {},
   "outputs": [
    {
     "data": {
      "text/plain": [
       "create_elements (generic function with 1 method)"
      ]
     },
     "execution_count": 3,
     "metadata": {},
     "output_type": "execute_result"
    }
   ],
   "source": [
    "function create_elements()\n",
    "    elements = [\n",
    "\n",
    "        DataElement(\"Balance\", \"BaseBalance\", A, Dict{Any, Any}(\"Commodity\" => \"Power\")),    \n",
    "        DataElement(\"Flow\", \"BaseFlow\", \"PowerA\", Dict{Any, Any}()),\n",
    "        DataElement(\"Arrow\", \"BaseArrow\", \"ArrowA\", Dict{Any, Any}(\"Balance\" => A, \"Flow\" => \"PowerA\", \"Conversion\" => 1.0, \"Direction\" => \"In\")),\n",
    "        DataElement(\"Cost\", \"CostTerm\", \"PowerA_cost\", Dict{Any, Any}(\"Param\" => PowerA, \"WhichInstance\" => \"PowerA\", \"WhichConcept\" => \"Flow\", \"Direction\" => \"In\")),\n",
    "        DataElement(\"Capacity\", \"PositiveCapacity\", \"PowerA_cap\", Dict{Any, Any}(\"Param\" => \"PowerA_cap\", \"WhichInstance\" => \"PowerA\", \"WhichConcept\" => \"Flow\", \"Bound\" => \"Upper\")),\n",
    "        DataElement(\"Param\", \"MWToGWhSeriesParam\", \"PowerA_cap\", Dict{Any, Any}(\"Level\" => PowerA_cap, \"Profile\" => 1.0)),\n",
    "        DataElement(\"Param\", \"MWToGWhSeriesParam\", \"DemandA\", Dict(\"Level\" => DemandA , \"Profile\" => 1.0)),\n",
    "        DataElement(\"RHSTerm\", \"BaseRHSTerm\", \"DemandA\", Dict{Any, Any}(\"Balance\" => A, \"Param\" => \"DemandA\", \"Direction\" => \"Out\")),\n",
    "\n",
    "        DataElement(\"Balance\", \"BaseBalance\", B, Dict{Any, Any}(\"Commodity\" => \"Power\")),    \n",
    "        DataElement(\"Flow\", \"BaseFlow\", \"PowerB\", Dict{Any, Any}()),\n",
    "        DataElement(\"Arrow\", \"BaseArrow\", \"ArrowB\", Dict{Any, Any}(\"Balance\" => B, \"Flow\" => \"PowerB\", \"Conversion\" => 1.0, \"Direction\" => \"In\")),\n",
    "        DataElement(\"Cost\", \"CostTerm\", \"PowerB_cost\", Dict{Any, Any}(\"Param\" => PowerB, \"WhichInstance\" => \"PowerB\", \"WhichConcept\" => \"Flow\", \"Direction\" => \"In\")),\n",
    "        DataElement(\"Capacity\", \"PositiveCapacity\", \"PowerB_cap\", Dict{Any, Any}(\"Param\" => \"PowerB_cap\", \"WhichInstance\" => \"PowerB\", \"WhichConcept\" => \"Flow\", \"Bound\" => \"Upper\")),\n",
    "        DataElement(\"Param\", \"MWToGWhSeriesParam\", \"PowerB_cap\", Dict{Any, Any}(\"Level\" => PowerB_cap, \"Profile\" => 1.0)),\n",
    "        DataElement(\"Param\", \"MWToGWhSeriesParam\", \"DemandB\", Dict(\"Level\" => DemandB , \"Profile\" => 1.0)),\n",
    "        DataElement(\"RHSTerm\", \"BaseRHSTerm\", \"DemandB\", Dict{Any, Any}(\"Balance\" => B, \"Param\" => \"DemandB\", \"Direction\" => \"Out\")),\n",
    "\n",
    "        DataElement(\"Balance\", \"BaseBalance\", C, Dict{Any, Any}(\"Commodity\" => \"Power\")),    \n",
    "        DataElement(\"Flow\", \"BaseFlow\", \"PowerC\", Dict{Any, Any}()),\n",
    "        DataElement(\"Arrow\", \"BaseArrow\", \"ArrowC\", Dict{Any, Any}(\"Balance\" => C, \"Flow\" => \"PowerC\", \"Conversion\" => 1.0, \"Direction\" => \"In\")),\n",
    "        DataElement(\"Cost\", \"CostTerm\", \"PowerC_cost\", Dict{Any, Any}(\"Param\" => PowerC, \"WhichInstance\" => \"PowerC\", \"WhichConcept\" => \"Flow\", \"Direction\" => \"In\")),\n",
    "        DataElement(\"Capacity\", \"PositiveCapacity\", \"PowerC_cap\", Dict{Any, Any}(\"Param\" => \"PowerC_cap\", \"WhichInstance\" => \"PowerC\", \"WhichConcept\" => \"Flow\", \"Bound\" => \"Upper\")),\n",
    "        DataElement(\"Param\", \"MWToGWhSeriesParam\", \"PowerC_cap\", Dict{Any, Any}(\"Level\" => PowerC_cap, \"Profile\" => 1.0)),\n",
    "        DataElement(\"Param\", \"MWToGWhSeriesParam\", \"DemandC\", Dict(\"Level\" => DemandC , \"Profile\" => 1.0)),\n",
    "        DataElement(\"RHSTerm\", \"BaseRHSTerm\", \"DemandC\", Dict{Any, Any}(\"Balance\" => C, \"Param\" => \"DemandC\", \"Direction\" => \"Out\"))\n",
    "    ]\n",
    "\n",
    "    elements = vcat(elements, make_connection(A, B))\n",
    "    elements = vcat(elements, make_connection(B, A))\n",
    "\n",
    "    elements = vcat(elements, make_connection(A, C))\n",
    "    elements = vcat(elements, make_connection(C, A))\n",
    "\n",
    "    elements = vcat(elements, make_connection(B, C))\n",
    "    elements = vcat(elements, make_connection(C, B))\n",
    "\n",
    "    power_horizon = SequentialHorizon(1, Day(1))\n",
    "    push!(elements, getelement(COMMODITY_CONCEPT, \"BaseCommodity\", \"Power\", (HORIZON_CONCEPT, power_horizon)))\n",
    "    addscenariotimeperiod!(elements, \"ScenarioTimePeriod\", getisoyearstart(1981), getisoyearstart(1983));\n",
    "    return elements\n",
    "end"
   ]
  },
  {
   "cell_type": "code",
   "execution_count": 4,
   "id": "a09807fb",
   "metadata": {
    "scrolled": true
   },
   "outputs": [
    {
     "data": {
      "text/html": [
       "<div><div style = \"float: left;\"><span>6×6 DataFrame</span></div><div style = \"clear: both;\"></div></div><div class = \"data-frame\" style = \"overflow-x: scroll;\"><table class = \"data-frame\" style = \"margin-bottom: 6px;\"><thead><tr class = \"header\"><th class = \"rowNumber\" style = \"font-weight: bold; text-align: right;\">Row</th><th style = \"text-align: left;\">line</th><th style = \"text-align: left;\">RAM</th><th style = \"text-align: left;\">border</th><th style = \"text-align: left;\">A</th><th style = \"text-align: left;\">C</th><th style = \"text-align: left;\">B</th></tr><tr class = \"subheader headerLastRow\"><th class = \"rowNumber\" style = \"font-weight: bold; text-align: right;\"></th><th title = \"String\" style = \"text-align: left;\">String</th><th title = \"Union{Missing, Float64}\" style = \"text-align: left;\">Float64?</th><th title = \"Bool\" style = \"text-align: left;\">Bool</th><th title = \"Float64\" style = \"text-align: left;\">Float64</th><th title = \"Float64\" style = \"text-align: left;\">Float64</th><th title = \"Int64\" style = \"text-align: left;\">Int64</th></tr></thead><tbody><tr><td class = \"rowNumber\" style = \"font-weight: bold; text-align: right;\">1</td><td style = \"text-align: left;\">non_flowTransm_A-&gt;B</td><td style = \"text-align: right;\">100000.0</td><td style = \"text-align: right;\">false</td><td style = \"text-align: right;\">0.91</td><td style = \"text-align: right;\">0.09</td><td style = \"text-align: right;\">0</td></tr><tr><td class = \"rowNumber\" style = \"font-weight: bold; text-align: right;\">2</td><td style = \"text-align: left;\">non_flowTransm_A-&gt;C</td><td style = \"text-align: right;\">10.0</td><td style = \"text-align: right;\">false</td><td style = \"text-align: right;\">0.09</td><td style = \"text-align: right;\">-0.09</td><td style = \"text-align: right;\">0</td></tr><tr><td class = \"rowNumber\" style = \"font-weight: bold; text-align: right;\">3</td><td style = \"text-align: left;\">non_flowTransm_B-&gt;C</td><td style = \"text-align: right;\">100000.0</td><td style = \"text-align: right;\">false</td><td style = \"text-align: right;\">-0.09</td><td style = \"text-align: right;\">-0.91</td><td style = \"text-align: right;\">0</td></tr><tr><td class = \"rowNumber\" style = \"font-weight: bold; text-align: right;\">4</td><td style = \"text-align: left;\">Transm_A-&gt;B</td><td style = \"font-style: italic; text-align: right;\">missing</td><td style = \"text-align: right;\">true</td><td style = \"text-align: right;\">0.91</td><td style = \"text-align: right;\">0.09</td><td style = \"text-align: right;\">0</td></tr><tr><td class = \"rowNumber\" style = \"font-weight: bold; text-align: right;\">5</td><td style = \"text-align: left;\">Transm_A-&gt;C</td><td style = \"font-style: italic; text-align: right;\">missing</td><td style = \"text-align: right;\">true</td><td style = \"text-align: right;\">0.09</td><td style = \"text-align: right;\">-0.09</td><td style = \"text-align: right;\">0</td></tr><tr><td class = \"rowNumber\" style = \"font-weight: bold; text-align: right;\">6</td><td style = \"text-align: left;\">Transm_B-&gt;C</td><td style = \"font-style: italic; text-align: right;\">missing</td><td style = \"text-align: right;\">true</td><td style = \"text-align: right;\">-0.09</td><td style = \"text-align: right;\">-0.91</td><td style = \"text-align: right;\">0</td></tr></tbody></table></div>"
      ],
      "text/latex": [
       "\\begin{tabular}{r|cccccc}\n",
       "\t& line & RAM & border & A & C & B\\\\\n",
       "\t\\hline\n",
       "\t& String & Float64? & Bool & Float64 & Float64 & Int64\\\\\n",
       "\t\\hline\n",
       "\t1 & non\\_flowTransm\\_A->B & 100000.0 & 0 & 0.91 & 0.09 & 0 \\\\\n",
       "\t2 & non\\_flowTransm\\_A->C & 10.0 & 0 & 0.09 & -0.09 & 0 \\\\\n",
       "\t3 & non\\_flowTransm\\_B->C & 100000.0 & 0 & -0.09 & -0.91 & 0 \\\\\n",
       "\t4 & Transm\\_A->B & \\emph{missing} & 1 & 0.91 & 0.09 & 0 \\\\\n",
       "\t5 & Transm\\_A->C & \\emph{missing} & 1 & 0.09 & -0.09 & 0 \\\\\n",
       "\t6 & Transm\\_B->C & \\emph{missing} & 1 & -0.09 & -0.91 & 0 \\\\\n",
       "\\end{tabular}\n"
      ],
      "text/plain": [
       "\u001b[1m6×6 DataFrame\u001b[0m\n",
       "\u001b[1m Row \u001b[0m│\u001b[1m line                \u001b[0m\u001b[1m RAM       \u001b[0m\u001b[1m border \u001b[0m\u001b[1m A       \u001b[0m\u001b[1m C       \u001b[0m\u001b[1m B     \u001b[0m\n",
       "     │\u001b[90m String              \u001b[0m\u001b[90m Float64?  \u001b[0m\u001b[90m Bool   \u001b[0m\u001b[90m Float64 \u001b[0m\u001b[90m Float64 \u001b[0m\u001b[90m Int64 \u001b[0m\n",
       "─────┼─────────────────────────────────────────────────────────────────\n",
       "   1 │ non_flowTransm_A->B   100000.0   false     0.91     0.09      0\n",
       "   2 │ non_flowTransm_A->C       10.0   false     0.09    -0.09      0\n",
       "   3 │ non_flowTransm_B->C   100000.0   false    -0.09    -0.91      0\n",
       "   4 │ Transm_A->B         \u001b[90m missing   \u001b[0m   true     0.91     0.09      0\n",
       "   5 │ Transm_A->C         \u001b[90m missing   \u001b[0m   true     0.09    -0.09      0\n",
       "   6 │ Transm_B->C         \u001b[90m missing   \u001b[0m   true    -0.09    -0.91      0"
      ]
     },
     "execution_count": 4,
     "metadata": {},
     "output_type": "execute_result"
    }
   ],
   "source": [
    "\n",
    "ptdfs = DataFrame(\n",
    "    line=[\"Transm_A->B\", \"Transm_A->C\", \"Transm_B->C\"],\n",
    "    RAM = [100000.0, 10.0, 100000.0],\n",
    "    A = [0.91, 0.09, -0.09],\n",
    "    C = [0.09, -0.09, -0.91],\n",
    "    B = [0, 0, 0]\n",
    ")\n",
    "\n",
    "\n",
    "\n",
    "\n",
    "\n",
    "df = ptdfs\n",
    "\n",
    "df_copy = copy(df)\n",
    "df_copy.RAM .= missing\n",
    "df_copy.border .= true\n",
    "df_copy\n",
    "df.border .= false\n",
    "df.line = \"non_flow\" .* df.line\n",
    "df = vcat(df, df_copy)\n",
    "select(df, [\"line\", \"RAM\", \"border\"], Not([\"line\", \"RAM\", \"border\"]))"
   ]
  },
  {
   "cell_type": "markdown",
   "id": "60c12ab7",
   "metadata": {},
   "source": [
    "# With flowbased"
   ]
  },
  {
   "cell_type": "code",
   "execution_count": 7,
   "id": "5b170cad",
   "metadata": {},
   "outputs": [
    {
     "data": {
      "text/latex": [
       "$$ \\begin{aligned}\n",
       "\\min\\quad & 200 FlowPowerB_{1} + 70 FlowPowerC_{1} + 100 FlowPowerA_{1}\\\\\n",
       "\\text{Subject to} \\quad & FlowTransm\\_A->B_{1} - FlowTransm\\_C->A_{1} + FlowTransm\\_A->C_{1} - FlowTransm\\_B->A_{1} - FlowPowerA_{1} = -140\\\\\n",
       " & -0.08999999999999997 FlowTransm\\_B->A_{1} - 0.8200000000000001 FlowTransm\\_A->C_{1} + 0.09 FlowTransm\\_B->C_{1} + 0.08999999999999997 FlowTransm\\_A->B_{1} + 0.8200000000000001 FlowTransm\\_C->A_{1} - 0.09 FlowTransm\\_C->B_{1} = 0\\\\\n",
       " & -FlowPowerB_{1} - FlowTransm\\_A->B_{1} + FlowTransm\\_B->A_{1} + FlowTransm\\_B->C_{1} - FlowTransm\\_C->B_{1} = -170\\\\\n",
       " & 0.09 FlowTransm\\_B->A_{1} + 0.8200000000000001 FlowTransm\\_A->C_{1} - 0.09 FlowTransm\\_B->C_{1} - 0.8200000000000001 FlowTransm\\_C->A_{1} - 0.09 FlowTransm\\_A->B_{1} + 0.09 FlowTransm\\_C->B_{1} = 0\\\\\n",
       " & FlowTransm\\_C->A_{1} - FlowTransm\\_A->C_{1} - FlowTransm\\_B->C_{1} - FlowPowerC_{1} + FlowTransm\\_C->B_{1} = -140\\\\\n",
       " & -0.09 FlowTransm\\_B->A_{1} + 0.08999999999999997 FlowTransm\\_B->C_{1} - 0.8200000000000001 FlowTransm\\_A->C_{1} + 0.09 FlowTransm\\_A->B_{1} + 0.8200000000000001 FlowTransm\\_C->A_{1} - 0.08999999999999997 FlowTransm\\_C->B_{1} = 0\\\\\n",
       " & 0.91 FlowTransm\\_B->A_{1} - 0.8200000000000001 FlowTransm\\_A->C_{1} + 0.09 FlowTransm\\_B->C_{1} - 0.91 FlowTransm\\_A->B_{1} + 0.8200000000000001 FlowTransm\\_C->A_{1} - 0.09 FlowTransm\\_C->B_{1} \\leq 100000\\\\\n",
       " & -0.91 FlowTransm\\_B->A_{1} + 0.8200000000000001 FlowTransm\\_A->C_{1} - 0.09 FlowTransm\\_B->C_{1} + 0.91 FlowTransm\\_A->B_{1} - 0.8200000000000001 FlowTransm\\_C->A_{1} + 0.09 FlowTransm\\_C->B_{1} \\leq 100000\\\\\n",
       " & 0.09 FlowTransm\\_B->A_{1} - 0.18 FlowTransm\\_A->C_{1} - 0.09 FlowTransm\\_B->C_{1} - 0.09 FlowTransm\\_A->B_{1} + 0.18 FlowTransm\\_C->A_{1} + 0.09 FlowTransm\\_C->B_{1} \\leq 10\\\\\n",
       " & -0.09 FlowTransm\\_B->A_{1} + 0.18 FlowTransm\\_A->C_{1} + 0.09 FlowTransm\\_B->C_{1} + 0.09 FlowTransm\\_A->B_{1} - 0.18 FlowTransm\\_C->A_{1} - 0.09 FlowTransm\\_C->B_{1} \\leq 10\\\\\n",
       " & -0.09 FlowTransm\\_B->A_{1} - 0.8200000000000001 FlowTransm\\_A->C_{1} - 0.91 FlowTransm\\_B->C_{1} + 0.09 FlowTransm\\_A->B_{1} + 0.8200000000000001 FlowTransm\\_C->A_{1} + 0.91 FlowTransm\\_C->B_{1} \\leq 100000\\\\\n",
       " & 0.09 FlowTransm\\_B->A_{1} + 0.8200000000000001 FlowTransm\\_A->C_{1} + 0.91 FlowTransm\\_B->C_{1} - 0.09 FlowTransm\\_A->B_{1} - 0.8200000000000001 FlowTransm\\_C->A_{1} - 0.91 FlowTransm\\_C->B_{1} \\leq 100000\\\\\n",
       " & FlowPowerB_{1} \\geq 0\\\\\n",
       " & FlowTransm\\_A->B_{1} \\geq 0\\\\\n",
       " & FlowTransm\\_C->A_{1} \\geq 0\\\\\n",
       " & FlowTransm\\_A->C_{1} \\geq 0\\\\\n",
       " & FlowTransm\\_B->A_{1} \\geq 0\\\\\n",
       " & FlowTransm\\_B->C_{1} \\geq 0\\\\\n",
       " & FlowPowerC_{1} \\geq 0\\\\\n",
       " & FlowPowerA_{1} \\geq 0\\\\\n",
       " & FlowTransm\\_C->B_{1} \\geq 0\\\\\n",
       " & FlowPowerB_{1} \\leq 1000\\\\\n",
       " & FlowPowerC_{1} \\leq 20\\\\\n",
       " & FlowPowerA_{1} \\leq 1000\\\\\n",
       "\\end{aligned} $$"
      ]
     },
     "metadata": {},
     "output_type": "display_data"
    },
    {
     "name": "stdout",
     "output_type": "stream",
     "text": [
      "* Solver : HiGHS\n",
      "\n",
      "* Status\n",
      "  Result count       : 1\n",
      "  Termination status : OPTIMAL\n",
      "  Message from the solver:\n",
      "  \"kHighsModelStatusOptimal\"\n",
      "\n",
      "* Candidate solution (result #1)\n",
      "  Primal status      : FEASIBLE_POINT\n",
      "  Dual status        : FEASIBLE_POINT\n",
      "  Objective value    : 7.42889e+04\n",
      "  Objective bound    : 0.00000e+00\n",
      "  Relative gap       : Inf\n",
      "  Dual objective value : 7.42889e+04\n",
      "  Primal solution :\n",
      "    FlowPowerA[1] : 1.31111e+02\n",
      "    FlowPowerB[1] : 2.98889e+02\n",
      "    FlowPowerC[1] : 2.00000e+01\n",
      "    FlowTransm_A->B[1] : 0.00000e+00\n",
      "    FlowTransm_A->C[1] : 1.00000e+01\n",
      "    FlowTransm_B->A[1] : 1.88889e+01\n",
      "    FlowTransm_B->C[1] : 1.10000e+02\n",
      "    FlowTransm_C->A[1] : 0.00000e+00\n",
      "    FlowTransm_C->B[1] : 0.00000e+00\n",
      "  Dual solution :\n",
      "    BalanceA[1] : -1.00000e+02\n",
      "    BalanceB[1] : -2.00000e+02\n",
      "    BalanceC[1] : -3.00000e+02\n",
      "    FlowBasedTransm_A->B[1] : -0.00000e+00\n",
      "    FlowBasedTransm_A->C[1] : -0.00000e+00\n",
      "    FlowBasedTransm_B->C[1] : -0.00000e+00\n",
      "    FlowBasednon_flowTransm_A->Bin[1] : 0.00000e+00\n",
      "    FlowBasednon_flowTransm_A->Bout[1] : 0.00000e+00\n",
      "    FlowBasednon_flowTransm_A->Cin[1] : 0.00000e+00\n",
      "    FlowBasednon_flowTransm_A->Cout[1] : -1.11111e+03\n",
      "    FlowBasednon_flowTransm_B->Cin[1] : 0.00000e+00\n",
      "    FlowBasednon_flowTransm_B->Cout[1] : 0.00000e+00\n",
      "\n",
      "* Work counters\n",
      "  Solve time (sec)   : 9.96113e-04\n",
      "  Simplex iterations : 5\n",
      "  Barrier iterations : 0\n",
      "  Node count         : -1\n"
     ]
    },
    {
     "data": {
      "text/plain": [
       "([100.0], [200.0], [300.0])"
      ]
     },
     "execution_count": 7,
     "metadata": {},
     "output_type": "execute_result"
    }
   ],
   "source": [
    "elements = create_elements() \n",
    "transm = [e for e in elements if is_transmission(e)]\n",
    "T = DataElement\n",
    "flow_based = make_flowbased(df, transm)\n",
    "flow_based = Vector{DataElement}(flow_based)\n",
    "elements = Vector{DataElement}(elements)\n",
    "\n",
    "elements = vcat(elements,  flow_based)\n",
    "modelobjects = getmodelobjects(elements)\n",
    "mymodel = JuMP.Model(HiGHS.Optimizer)\n",
    "prob = JuMP_Prob(modelobjects, mymodel)\n",
    "\n",
    "datatime = getisoyearstart(2023)\n",
    "scenariotime = getisoyearstart(1981)\n",
    "prob_time = TwoTime(datatime, scenariotime)    \n",
    "update!(prob, prob_time)\n",
    "solve!(prob)\n",
    "print(prob.model)\n",
    "print(solution_summary(prob.model, verbose = true))\n",
    "    \n",
    "-dual.(prob.model[:BalanceA]), -dual.(prob.model[:BalanceB]), -dual.(prob.model[:BalanceC])\n"
   ]
  },
  {
   "cell_type": "markdown",
   "id": "e2d95b56",
   "metadata": {},
   "source": [
    "# without flowbased"
   ]
  },
  {
   "cell_type": "code",
   "execution_count": 8,
   "id": "6dab1602",
   "metadata": {},
   "outputs": [
    {
     "data": {
      "text/latex": [
       "$$ \\begin{aligned}\n",
       "\\min\\quad & 200 FlowPowerB_{1} + 70 FlowPowerC_{1} + 100 FlowPowerA_{1}\\\\\n",
       "\\text{Subject to} \\quad & FlowTransm\\_A->B_{1} - FlowTransm\\_C->A_{1} + FlowTransm\\_A->C_{1} - FlowTransm\\_B->A_{1} - FlowPowerA_{1} = -140\\\\\n",
       " & -FlowPowerB_{1} - FlowTransm\\_A->B_{1} + FlowTransm\\_B->A_{1} + FlowTransm\\_B->C_{1} - FlowTransm\\_C->B_{1} = -170\\\\\n",
       " & FlowTransm\\_C->A_{1} - FlowTransm\\_A->C_{1} - FlowTransm\\_B->C_{1} - FlowPowerC_{1} + FlowTransm\\_C->B_{1} = -140\\\\\n",
       " & FlowPowerB_{1} \\geq 0\\\\\n",
       " & FlowTransm\\_A->B_{1} \\geq 0\\\\\n",
       " & FlowTransm\\_C->A_{1} \\geq 0\\\\\n",
       " & FlowTransm\\_A->C_{1} \\geq 0\\\\\n",
       " & FlowTransm\\_B->A_{1} \\geq 0\\\\\n",
       " & FlowTransm\\_B->C_{1} \\geq 0\\\\\n",
       " & FlowPowerC_{1} \\geq 0\\\\\n",
       " & FlowPowerA_{1} \\geq 0\\\\\n",
       " & FlowTransm\\_C->B_{1} \\geq 0\\\\\n",
       " & FlowPowerB_{1} \\leq 1000\\\\\n",
       " & FlowPowerC_{1} \\leq 20\\\\\n",
       " & FlowPowerA_{1} \\leq 1000\\\\\n",
       "\\end{aligned} $$"
      ]
     },
     "metadata": {},
     "output_type": "display_data"
    },
    {
     "name": "stdout",
     "output_type": "stream",
     "text": [
      "* Solver : HiGHS\n",
      "\n",
      "* Status\n",
      "  Result count       : 1\n",
      "  Termination status : OPTIMAL\n",
      "  Message from the solver:\n",
      "  \"kHighsModelStatusOptimal\"\n",
      "\n",
      "* Candidate solution (result #1)\n",
      "  Primal status      : FEASIBLE_POINT\n",
      "  Dual status        : FEASIBLE_POINT\n",
      "  Objective value    : 4.44000e+04\n",
      "  Objective bound    : 0.00000e+00\n",
      "  Relative gap       : Inf\n",
      "  Dual objective value : 4.44000e+04\n",
      "  Primal solution :\n",
      "    FlowPowerA[1] : 4.30000e+02\n",
      "    FlowPowerB[1] : 0.00000e+00\n",
      "    FlowPowerC[1] : 2.00000e+01\n",
      "    FlowTransm_A->B[1] : 1.70000e+02\n",
      "    FlowTransm_A->C[1] : 1.20000e+02\n",
      "    FlowTransm_B->A[1] : 0.00000e+00\n",
      "    FlowTransm_B->C[1] : 0.00000e+00\n",
      "    FlowTransm_C->A[1] : 0.00000e+00\n",
      "    FlowTransm_C->B[1] : 0.00000e+00\n",
      "  Dual solution :\n",
      "    BalanceA[1] : -1.00000e+02\n",
      "    BalanceB[1] : -1.00000e+02\n",
      "    BalanceC[1] : -1.00000e+02\n",
      "\n",
      "* Work counters\n",
      "  Solve time (sec)   : 9.94921e-04\n",
      "  Simplex iterations : 3\n",
      "  Barrier iterations : 0\n",
      "  Node count         : -1\n"
     ]
    },
    {
     "data": {
      "text/plain": [
       "([100.0], [100.0], [100.0])"
      ]
     },
     "execution_count": 8,
     "metadata": {},
     "output_type": "execute_result"
    }
   ],
   "source": [
    "elements = create_elements()\n",
    "transm = [e for e in elements if is_transmission(e)]\n",
    "T = DataElement\n",
    "\n",
    "elements = Vector{DataElement}(elements)\n",
    "\n",
    "modelobjects = getmodelobjects(elements)\n",
    "mymodel = JuMP.Model(HiGHS.Optimizer)\n",
    "prob = JuMP_Prob(modelobjects, mymodel)\n",
    "datatime = getisoyearstart(2023)\n",
    "scenariotime = getisoyearstart(1981)\n",
    "prob_time = TwoTime(datatime, scenariotime)    \n",
    "update!(prob, prob_time)\n",
    "solve!(prob)\n",
    "print(prob.model)\n",
    "print(solution_summary(prob.model, verbose = true))\n",
    "    \n",
    "-dual.(prob.model[:BalanceA]), -dual.(prob.model[:BalanceB]), -dual.(prob.model[:BalanceC])\n"
   ]
  },
  {
   "cell_type": "code",
   "execution_count": null,
   "id": "a197b4aa",
   "metadata": {},
   "outputs": [],
   "source": []
  },
  {
   "cell_type": "code",
   "execution_count": null,
   "id": "2adb2be5",
   "metadata": {},
   "outputs": [],
   "source": []
  }
 ],
 "metadata": {
  "kernelspec": {
   "display_name": "Julia 1.9.2",
   "language": "julia",
   "name": "julia-1.9"
  },
  "language_info": {
   "file_extension": ".jl",
   "mimetype": "application/julia",
   "name": "julia",
   "version": "1.9.2"
  }
 },
 "nbformat": 4,
 "nbformat_minor": 5
}
