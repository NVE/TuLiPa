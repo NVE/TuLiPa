{
 "cells": [
  {
   "cell_type": "code",
   "execution_count": 241,
   "id": "9b80b843",
   "metadata": {
    "scrolled": true
   },
   "outputs": [],
   "source": [
    "using DataFrames, Plots, Statistics, JSON, Dates, HiGHS #, TuLiPa\n",
    "include(joinpath(dirname(pwd()),\"src/TuLiPa_notmodule.jl\"));"
   ]
  },
  {
   "cell_type": "markdown",
   "id": "fc3aa175",
   "metadata": {},
   "source": [
    "Start by changing _common_update_shrinkable!(h, handler, p, start) to print updatemethod (shrink/shift/reset)\n",
    "\n",
    "    if change <= s.remaining_duration\n",
    "        println(\"shrink\")\n",
    "        shrink!(s, p, change)\n",
    "    elseif (change == (s.remaining_duration + s.minperiod)) && (s.last_shiftperiod != HORIZON_NOSHIFT)\n",
    "        println(\"reset_shift\")\n",
    "        reset_shift!(s, p, change)\n",
    "    else\n",
    "        println(\"reset_normal\")\n",
    "        reset_normal!(s, p, change)\n",
    "    end"
   ]
  },
  {
   "cell_type": "markdown",
   "id": "4efa7e2f",
   "metadata": {},
   "source": [
    "### SequentialHorizon"
   ]
  },
  {
   "cell_type": "markdown",
   "id": "0b71c41b",
   "metadata": {},
   "source": [
    "#### Startafter = 0"
   ]
  },
  {
   "cell_type": "code",
   "execution_count": 249,
   "id": "610c5d39",
   "metadata": {},
   "outputs": [
    {
     "name": "stdout",
     "output_type": "stream",
     "text": [
      "ShrinkableHorizon{SequentialHorizon, SequentialHorizonShrinker}(SequentialHorizon(SequentialPeriods([(1, Millisecond(345600000)), (1, Millisecond(345600000)), (2, Millisecond(345600000))]), nothing), SequentialHorizonShrinker(SequentialPeriodsShrinker(1:2, 1:2, Bool[0, 0], [Millisecond(345600000), Millisecond(345600000)], Millisecond(172800000), [-1, -1, -1, -1], Bool[1, 1, 1, 1], 3, nothing, Millisecond(345600000))))\n",
      "Bool[1, 1, 1, 1]\n",
      "shrink\n",
      "Bool[1, 0, 0, 0]\n",
      "shrink\n",
      "Bool[1, 1, 0, 0]\n",
      "reset_shift\n",
      "Bool[1, 1, 0, 1]\n",
      "shrink\n",
      "Bool[1, 0, 0, 0]\n"
     ]
    }
   ],
   "source": [
    "startafter = Millisecond(0)\n",
    "shrinkatleast = Millisecond(Hour(4*24))\n",
    "minperiod = Millisecond(Hour(2*24))\n",
    "subhorizon = SequentialHorizon(4, Day(4))\n",
    "hydro_horizon = ShrinkableHorizon(subhorizon, startafter, shrinkatleast, minperiod)\n",
    "println(hydro_horizon)\n",
    "\n",
    "t = TwoTime(getisoyearstart(2025), getisoyearstart(1981))\n",
    "for i in 1:5\n",
    "    update!(hydro_horizon, t)\n",
    "#     println(hydro_horizon.subhorizon)\n",
    "    println(hydro_horizon.handler.shrinker.updates_must)\n",
    "#     println(hydro_horizon.handler.shrinker.updates_shift)\n",
    "\n",
    "    t += Day(2)\n",
    "end"
   ]
  },
  {
   "cell_type": "markdown",
   "id": "3686824e",
   "metadata": {},
   "source": [
    "#### Startafter = 2 days"
   ]
  },
  {
   "cell_type": "code",
   "execution_count": 251,
   "id": "e68c08f4",
   "metadata": {},
   "outputs": [
    {
     "name": "stdout",
     "output_type": "stream",
     "text": [
      "ShrinkableHorizon{SequentialHorizon, SequentialHorizonShrinker}(SequentialHorizon(SequentialPeriods([(1, Millisecond(345600000)), (1, Millisecond(345600000)), (1, Millisecond(345600000)), (2, Millisecond(345600000))]), nothing), SequentialHorizonShrinker(SequentialPeriodsShrinker(2:3, 2:3, Bool[0, 0], [Millisecond(345600000), Millisecond(345600000)], Millisecond(172800000), [-1, -1, -1, -1, -1], Bool[1, 1, 1, 1, 1], 4, nothing, Millisecond(345600000))))\n",
      "Bool[1, 1, 1, 1, 1]\n",
      "shrink\n",
      "Bool[1, 1, 0, 0, 0]\n",
      "shrink\n",
      "Bool[1, 1, 1, 0, 0]\n",
      "reset_shift\n",
      "Bool[1, 1, 1, 0, 1]\n",
      "shrink\n",
      "Bool[1, 1, 0, 0, 0]\n"
     ]
    }
   ],
   "source": [
    "startafter = Millisecond(Day(2))\n",
    "shrinkatleast = Millisecond(Hour(4*24))\n",
    "minperiod = Millisecond(Hour(2*24))\n",
    "subhorizon = SequentialHorizon(5, Day(4))\n",
    "hydro_horizon = ShrinkableHorizon(subhorizon, startafter, shrinkatleast, minperiod)\n",
    "println(hydro_horizon)\n",
    "\n",
    "t = TwoTime(getisoyearstart(2025), getisoyearstart(1981))\n",
    "for i in 1:5\n",
    "    update!(hydro_horizon, t)\n",
    "#     println(hydro_horizon.subhorizon)\n",
    "    println(hydro_horizon.handler.shrinker.updates_must)\n",
    "#     println(hydro_horizon.handler.shrinker.updates_shift)\n",
    "\n",
    "    t += Day(2)\n",
    "end"
   ]
  },
  {
   "cell_type": "markdown",
   "id": "ec3891dc",
   "metadata": {},
   "source": [
    "### AdaptiveHorizon"
   ]
  },
  {
   "cell_type": "code",
   "execution_count": 213,
   "id": "b035ff88",
   "metadata": {},
   "outputs": [
    {
     "data": {
      "text/plain": [
       "Dict{Any, Any} with 4 entries:\n",
       "  Id(\"Balance\", \"PowerBalance_GER\") => BaseBalance(Id(\"Balance\", \"PowerBalance_…\n",
       "  Id(\"Flow\", \"GenNucGER\")           => BaseFlow(Id(\"Flow\", \"GenNucGER\"), Sequen…\n",
       "  Id(\"Flow\", \"GenCoalGER\")          => BaseFlow(Id(\"Flow\", \"GenCoalGER\"), Seque…\n",
       "  Id(\"Flow\", \"GenBioGER\")           => BaseFlow(Id(\"Flow\", \"GenBioGER\"), Sequen…"
      ]
     },
     "execution_count": 213,
     "metadata": {},
     "output_type": "execute_result"
    }
   ],
   "source": [
    "include(\"../test/small_model.jl\")\n",
    "data = get_dummy_data()\n",
    "elements = data[\"all_elements\"]\n",
    "power_horizon = SequentialHorizon(10, Day(1))\n",
    "push!(elements, getelement(COMMODITY_CONCEPT, \"BaseCommodity\", \"Power\", \n",
    "    (HORIZON_CONCEPT, power_horizon)))\n",
    "addscenariotimeperiod!(elements, \"ScenarioTimePeriod\", \n",
    "    getisoyearstart(1981), \n",
    "    getisoyearstart(1983));\n",
    "modelobjects = getmodelobjects(elements)\n",
    "modelobjects"
   ]
  },
  {
   "cell_type": "markdown",
   "id": "5e3f07af",
   "metadata": {},
   "source": [
    "#### Startafter = 0"
   ]
  },
  {
   "cell_type": "code",
   "execution_count": 214,
   "id": "554ce15b",
   "metadata": {},
   "outputs": [
    {
     "data": {
      "text/plain": [
       "1-element Vector{RHSTerm}:\n",
       " BaseRHSTerm(Id(\"RHSTerm\", \"DemandGER\"), MWToGWhSeriesParam{InfiniteTimeVector{Vector{DateTime}, Vector{Float64}}, RotatingTimeVector{StepRange{DateTime, Millisecond}, SubArray{Float64, 1, Matrix{Float64}, Tuple{UnitRange{Int64}, Int64}, true}}}(InfiniteTimeVector{Vector{DateTime}, Vector{Float64}}([DateTime(\"2021-01-04T00:00:00\"), DateTime(\"2024-12-30T00:00:00\")], [50000.0, 55000.0]), RotatingTimeVector{StepRange{DateTime, Millisecond}, SubArray{Float64, 1, Matrix{Float64}, Tuple{UnitRange{Int64}, Int64}, true}}(DateTime(\"1980-12-29T00:00:00\"):Millisecond(3600000):DateTime(\"1983-01-03T00:00:00\"), [0.75027, 0.72027, 0.70846, 0.7154, 0.74377, 0.81326, 0.96584, 1.08374, 1.14466, 1.16743  …  1.05475, 1.05921, 1.10809, 1.15185, 1.15411, 1.12504, 1.1046, 1.09428, 1.01477, 0.73769], DateTime(\"1980-12-29T00:00:00\"), DateTime(\"1983-01-03T00:00:00\"))), false, Dict{Any, Any}())"
      ]
     },
     "execution_count": 214,
     "metadata": {},
     "output_type": "execute_result"
    }
   ],
   "source": [
    "hydroperiodduration = Millisecond(Day(4))\n",
    "hydroperiods = 4\n",
    "rhsdata = DynamicRHSAHData(\"Power\")\n",
    "method = KMeansAHMethod()\n",
    "clusters = 2\n",
    "unit_duration = Millisecond(Hour(4))\n",
    "power_horizon = AdaptiveHorizon(clusters, unit_duration, rhsdata, method, hydroperiods, hydroperiodduration)\n",
    "power_horizon.data.rhs_terms = modelobjects[Id(\"Balance\", \"PowerBalance_GER\")].rhsterms"
   ]
  },
  {
   "cell_type": "code",
   "execution_count": 215,
   "id": "af895237",
   "metadata": {
    "scrolled": false
   },
   "outputs": [
    {
     "name": "stdout",
     "output_type": "stream",
     "text": [
      "UnitsTimeDelta[UnitsTimeDelta(UnitRange{Int64}[], Millisecond(14400000)), UnitsTimeDelta(UnitRange{Int64}[], Millisecond(14400000)), UnitsTimeDelta(UnitRange{Int64}[], Millisecond(14400000)), UnitsTimeDelta(UnitRange{Int64}[], Millisecond(14400000)), UnitsTimeDelta(UnitRange{Int64}[], Millisecond(14400000)), UnitsTimeDelta(UnitRange{Int64}[], Millisecond(14400000)), UnitsTimeDelta(UnitRange{Int64}[], Millisecond(14400000)), UnitsTimeDelta(UnitRange{Int64}[], Millisecond(14400000))]\n",
      "UnitRange{Int64}[1:2, 6:8, 12:14, 18:20, 24:24]\n",
      "UnitRange{Int64}[3:5, 9:11, 15:17, 21:23]\n",
      "UnitRange{Int64}[1:2, 6:8, 12:20]\n",
      "UnitRange{Int64}[3:5, 9:11, 21:24]\n",
      "UnitRange{Int64}[1:2, 6:8, 12:14, 18:20, 24:24]\n",
      "UnitRange{Int64}[3:5, 9:11, 15:17, 21:23]\n",
      "UnitRange{Int64}[1:14, 18:20, 24:24]\n",
      "UnitRange{Int64}[15:17, 21:23]\n",
      "shrink\n",
      "UnitRange{Int64}[1:2, 6:8, 12:12]\n",
      "UnitRange{Int64}[3:5, 9:11]\n",
      "UnitRange{Int64}[1:2, 6:8, 12:20]\n",
      "UnitRange{Int64}[3:5, 9:11, 21:24]\n",
      "UnitRange{Int64}[1:2, 6:8, 12:14, 18:20, 24:24]\n",
      "UnitRange{Int64}[3:5, 9:11, 15:17, 21:23]\n",
      "UnitRange{Int64}[1:14, 18:20, 24:24]\n",
      "UnitRange{Int64}[15:17, 21:23]\n",
      "shrink\n",
      "UnitRange{Int64}[1:2, 6:8, 12:12]\n",
      "UnitRange{Int64}[3:5, 9:11]\n",
      "UnitRange{Int64}[1:8]\n",
      "UnitRange{Int64}[9:12]\n",
      "UnitRange{Int64}[1:2, 6:8, 12:14, 18:20, 24:24]\n",
      "UnitRange{Int64}[3:5, 9:11, 15:17, 21:23]\n",
      "UnitRange{Int64}[1:14, 18:20, 24:24]\n",
      "UnitRange{Int64}[15:17, 21:23]\n",
      "reset_shift\n",
      "UnitRange{Int64}[1:8, 12:14, 18:20, 24:24]\n",
      "UnitRange{Int64}[9:11, 15:17, 21:23]\n",
      "UnitRange{Int64}[1:2, 6:8, 12:24]\n",
      "UnitRange{Int64}[3:5, 9:11]\n",
      "UnitRange{Int64}[1:14, 18:20, 24:24]\n",
      "UnitRange{Int64}[15:17, 21:23]\n",
      "UnitRange{Int64}[1:1, 7:8, 12:20]\n",
      "UnitRange{Int64}[2:6, 9:11, 21:24]\n",
      "shrink\n",
      "UnitRange{Int64}[1:2, 6:8, 12:12]\n",
      "UnitRange{Int64}[3:5, 9:11]\n",
      "UnitRange{Int64}[1:2, 6:8, 12:24]\n",
      "UnitRange{Int64}[3:5, 9:11]\n",
      "UnitRange{Int64}[1:14, 18:20, 24:24]\n",
      "UnitRange{Int64}[15:17, 21:23]\n",
      "UnitRange{Int64}[1:1, 7:8, 12:20]\n",
      "UnitRange{Int64}[2:6, 9:11, 21:24]\n"
     ]
    }
   ],
   "source": [
    "startafter = Millisecond(0)\n",
    "shrinkatleast = Millisecond(Hour(4*24))\n",
    "minperiod = Millisecond(Hour(2*24))\n",
    "hydro_horizon = ShrinkableHorizon(power_horizon, startafter, shrinkatleast, minperiod)\n",
    "println(hydro_horizon.subhorizon.periods)\n",
    "\n",
    "t = TwoTime(getisoyearstart(2025), getisoyearstart(1981))\n",
    "for i in 1:5\n",
    "    update!(hydro_horizon, t)\n",
    "    for unitstimedelta in hydro_horizon.subhorizon.periods\n",
    "        println(unitstimedelta.units)\n",
    "    end\n",
    "#     println(hydro_horizon.handler.shrinker.updates_must)\n",
    "#     println(hydro_horizon.handler.shrinker.updates_shift)\n",
    "\n",
    "    t += Day(2)\n",
    "end"
   ]
  },
  {
   "cell_type": "markdown",
   "id": "6839bc01",
   "metadata": {},
   "source": [
    "#### Startafter = 2 days"
   ]
  },
  {
   "cell_type": "code",
   "execution_count": 244,
   "id": "ae7b6b30",
   "metadata": {},
   "outputs": [
    {
     "data": {
      "text/plain": [
       "1-element Vector{RHSTerm}:\n",
       " BaseRHSTerm(Id(\"RHSTerm\", \"DemandGER\"), MWToGWhSeriesParam{InfiniteTimeVector{Vector{DateTime}, Vector{Float64}}, RotatingTimeVector{StepRange{DateTime, Millisecond}, SubArray{Float64, 1, Matrix{Float64}, Tuple{UnitRange{Int64}, Int64}, true}}}(InfiniteTimeVector{Vector{DateTime}, Vector{Float64}}([DateTime(\"2021-01-04T00:00:00\"), DateTime(\"2024-12-30T00:00:00\")], [50000.0, 55000.0]), RotatingTimeVector{StepRange{DateTime, Millisecond}, SubArray{Float64, 1, Matrix{Float64}, Tuple{UnitRange{Int64}, Int64}, true}}(DateTime(\"1980-12-29T00:00:00\"):Millisecond(3600000):DateTime(\"1983-01-03T00:00:00\"), [0.75027, 0.72027, 0.70846, 0.7154, 0.74377, 0.81326, 0.96584, 1.08374, 1.14466, 1.16743  …  1.05475, 1.05921, 1.10809, 1.15185, 1.15411, 1.12504, 1.1046, 1.09428, 1.01477, 0.73769], DateTime(\"1980-12-29T00:00:00\"), DateTime(\"1983-01-03T00:00:00\"))), false, Dict{Any, Any}())"
      ]
     },
     "execution_count": 244,
     "metadata": {},
     "output_type": "execute_result"
    }
   ],
   "source": [
    "rhsdata = DynamicRHSAHData(\"Power\")\n",
    "method = KMeansAHMethod()\n",
    "clusters = 2\n",
    "unit_duration = Millisecond(Hour(4))\n",
    "power_horizon = AdaptiveHorizon(clusters, unit_duration, rhsdata, method, 1, Millisecond(Day(2)), 4, Millisecond(Day(4)))\n",
    "power_horizon.data.rhs_terms = modelobjects[Id(\"Balance\", \"PowerBalance_GER\")].rhsterms"
   ]
  },
  {
   "cell_type": "code",
   "execution_count": 245,
   "id": "b9f1aec8",
   "metadata": {},
   "outputs": [
    {
     "name": "stdout",
     "output_type": "stream",
     "text": [
      "UnitsTimeDelta[UnitsTimeDelta(UnitRange{Int64}[], Millisecond(14400000)), UnitsTimeDelta(UnitRange{Int64}[], Millisecond(14400000)), UnitsTimeDelta(UnitRange{Int64}[], Millisecond(14400000)), UnitsTimeDelta(UnitRange{Int64}[], Millisecond(14400000)), UnitsTimeDelta(UnitRange{Int64}[], Millisecond(14400000)), UnitsTimeDelta(UnitRange{Int64}[], Millisecond(14400000)), UnitsTimeDelta(UnitRange{Int64}[], Millisecond(14400000)), UnitsTimeDelta(UnitRange{Int64}[], Millisecond(14400000)), UnitsTimeDelta(UnitRange{Int64}[], Millisecond(14400000)), UnitsTimeDelta(UnitRange{Int64}[], Millisecond(14400000))]\n",
      "UnitRange{Int64}[1:2, 6:8, 12:12]\n",
      "UnitRange{Int64}[3:5, 9:11]\n",
      "UnitRange{Int64}[1:2, 6:8, 12:14, 18:24]\n",
      "UnitRange{Int64}[3:5, 9:11, 15:17]\n",
      "UnitRange{Int64}[1:8, 12:14, 18:20, 24:24]\n",
      "UnitRange{Int64}[9:11, 15:17, 21:23]\n",
      "UnitRange{Int64}[1:2, 7:8, 12:24]\n",
      "UnitRange{Int64}[3:6, 9:11]\n",
      "UnitRange{Int64}[3:6, 9:12, 15:18, 21:24]\n",
      "UnitRange{Int64}[1:2, 7:8, 13:14, 19:20]\n",
      "Bool[1, 1, 1, 1, 1]\n",
      "shrink\n",
      "1\n",
      "2\n",
      "UnitRange{Int64}[1:2, 6:8, 12:12]\n",
      "UnitRange{Int64}[3:5, 9:11]\n",
      "UnitRange{Int64}[1:2, 6:12]\n",
      "UnitRange{Int64}[3:5]\n",
      "UnitRange{Int64}[1:8, 12:14, 18:20, 24:24]\n",
      "UnitRange{Int64}[9:11, 15:17, 21:23]\n",
      "UnitRange{Int64}[1:2, 7:8, 12:24]\n",
      "UnitRange{Int64}[3:6, 9:11]\n",
      "UnitRange{Int64}[3:6, 9:12, 15:18, 21:24]\n",
      "UnitRange{Int64}[1:2, 7:8, 13:14, 19:20]\n",
      "Bool[1, 1, 0, 0, 0]\n",
      "shrink\n",
      "1\n",
      "2\n",
      "3\n",
      "UnitRange{Int64}[1:2, 6:12]\n",
      "UnitRange{Int64}[3:5]\n",
      "UnitRange{Int64}[1:8]\n",
      "UnitRange{Int64}[9:12]\n",
      "UnitRange{Int64}[1:2, 6:8, 12:12]\n",
      "UnitRange{Int64}[3:5, 9:11]\n",
      "UnitRange{Int64}[1:2, 7:8, 12:24]\n",
      "UnitRange{Int64}[3:6, 9:11]\n",
      "UnitRange{Int64}[3:6, 9:12, 15:18, 21:24]\n",
      "UnitRange{Int64}[1:2, 7:8, 13:14, 19:20]\n",
      "Bool[1, 1, 1, 0, 0]\n",
      "reset_shift\n",
      "1\n",
      "2\n",
      "3\n",
      "5\n",
      "UnitRange{Int64}[1:8]\n",
      "UnitRange{Int64}[9:12]\n",
      "UnitRange{Int64}[1:2, 6:8, 12:14, 18:20, 24:24]\n",
      "UnitRange{Int64}[3:5, 9:11, 15:17, 21:23]\n",
      "UnitRange{Int64}[1:14, 18:20, 24:24]\n",
      "UnitRange{Int64}[15:17, 21:23]\n",
      "UnitRange{Int64}[3:6, 9:12, 15:18, 21:24]\n",
      "UnitRange{Int64}[1:2, 7:8, 13:14, 19:20]\n",
      "UnitRange{Int64}[1:8, 12:14, 18:20, 24:24]\n",
      "UnitRange{Int64}[9:11, 15:17, 21:23]\n",
      "Bool[1, 1, 1, 0, 1]\n",
      "shrink\n",
      "1\n",
      "2\n",
      "UnitRange{Int64}[1:2, 6:8, 12:12]\n",
      "UnitRange{Int64}[3:5, 9:11]\n",
      "UnitRange{Int64}[1:2, 6:8, 12:12]\n",
      "UnitRange{Int64}[3:5, 9:11]\n",
      "UnitRange{Int64}[1:14, 18:20, 24:24]\n",
      "UnitRange{Int64}[15:17, 21:23]\n",
      "UnitRange{Int64}[3:6, 9:12, 15:18, 21:24]\n",
      "UnitRange{Int64}[1:2, 7:8, 13:14, 19:20]\n",
      "UnitRange{Int64}[1:8, 12:14, 18:20, 24:24]\n",
      "UnitRange{Int64}[9:11, 15:17, 21:23]\n",
      "Bool[1, 1, 0, 0, 0]\n"
     ]
    }
   ],
   "source": [
    "startafter = Millisecond(Day(2))\n",
    "shrinkatleast = Millisecond(Hour(4*24))\n",
    "minperiod = Millisecond(Hour(2*24))\n",
    "hydro_horizon = ShrinkableHorizon(power_horizon, startafter, shrinkatleast, minperiod)\n",
    "println(hydro_horizon.subhorizon.periods)\n",
    "\n",
    "t = TwoTime(getisoyearstart(2025) + Week(3), getisoyearstart(1981) + Week(3))\n",
    "for i in 1:5\n",
    "    update!(hydro_horizon, t)\n",
    "    for unitstimedelta in hydro_horizon.subhorizon.periods\n",
    "        println(unitstimedelta.units)\n",
    "    end\n",
    "#     println(hydro_horizon)\n",
    "    println(hydro_horizon.handler.shrinker.updates_must)\n",
    "#     println(hydro_horizon.handler.shrinker.updates_shift)\n",
    "\n",
    "    t += Day(2)\n",
    "end"
   ]
  }
 ],
 "metadata": {
  "@webio": {
   "lastCommId": null,
   "lastKernelId": null
  },
  "kernelspec": {
   "display_name": "Julia 1.9.2",
   "language": "julia",
   "name": "julia-1.9"
  },
  "language_info": {
   "file_extension": ".jl",
   "mimetype": "application/julia",
   "name": "julia",
   "version": "1.9.2"
  }
 },
 "nbformat": 4,
 "nbformat_minor": 5
}
