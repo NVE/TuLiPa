{
 "cells": [
  {
   "cell_type": "code",
   "execution_count": null,
   "id": "47bbf846",
   "metadata": {},
   "outputs": [],
   "source": [
    "import pandas as pd\n",
    "import numpy as np\n",
    "import h5py\n",
    "import matplotlib.pyplot as plt"
   ]
  },
  {
   "cell_type": "code",
   "execution_count": null,
   "id": "9e16e5b1",
   "metadata": {},
   "outputs": [],
   "source": [
    "path = r\"Uke_31_dual_flowbased_values\\output_fast_oneyear\\1991.h5\""
   ]
  },
  {
   "cell_type": "code",
   "execution_count": null,
   "id": "87450c05",
   "metadata": {},
   "outputs": [],
   "source": [
    "h5py.File(path).keys()"
   ]
  },
  {
   "cell_type": "code",
   "execution_count": null,
   "id": "eec44e28",
   "metadata": {},
   "outputs": [],
   "source": [
    "def byte_column_names_to_str(df):\n",
    "    rename_mapping = dict(zip(df.columns, df.columns.str.decode(\"utf-8\")))\n",
    "    df = df.rename(columns = rename_mapping)\n",
    "    return df\n",
    "\n",
    "def processing(path, x_field, y_field):\n",
    "    df2 = pd.DataFrame(np.array(h5py.File(path)[y_field]))\n",
    "    df2 = df2.transpose()\n",
    "    df = pd.DataFrame(np.array(h5py.File(path)[x_field]))\n",
    "    df2.columns = df[0].tolist()\n",
    "    df2 = byte_column_names_to_str(df2)\n",
    "    return df2\n",
    "\n",
    "def net_balance(path, supply_or_demand, f):\n",
    "    detailed = f\"{supply_or_demand}names\"\n",
    "    balance = f\"{supply_or_demand}balancenames\"\n",
    "    values = f\"{supply_or_demand}values\"\n",
    "\n",
    "    df_balance = processing(path, detailed, balance)\n",
    "    df = processing(path, detailed, values)\n",
    "    \n",
    "    df = df.T\n",
    "    df[\"balancename\"] = df_balance.T\n",
    "    df = df[[f(index) for index in df.index]]\n",
    "    df = df.groupby(\"balancename\").sum().T\n",
    "    \n",
    "    df = byte_column_names_to_str(df)\n",
    "    return df"
   ]
  },
  {
   "cell_type": "code",
   "execution_count": null,
   "id": "2e18323e",
   "metadata": {},
   "outputs": [],
   "source": [
    "df_demand = processing(path, \"demandbalancenames\", \"demandvalues\")\n",
    "df_demand = df_demand.T.groupby(df_demand.columns).sum().T\n",
    "\n",
    "df_supply = processing(path, \"supplybalancenames\", 'supplyvalues')\n",
    "df_supply = df_supply.T.groupby(df_supply.columns).sum().T\n",
    "\n",
    "df_prices = processing(path,  \"areanames\", \"pricematrix\") * 100 # euro/10mwh to euro/mwh\n",
    "df_flowbased = processing(path,  \"flowbasednames\", \"flowbasedvalues\")\n",
    "\n",
    "df_demandnames = processing(path, \"demandnames\", \"demandvalues\")\n",
    "df_supplynames = processing(path, \"supplynames\", \"supplyvalues\")"
   ]
  },
  {
   "cell_type": "code",
   "execution_count": null,
   "id": "50882c28",
   "metadata": {},
   "outputs": [],
   "source": [
    "f = lambda x : (\"Transm\" in x) or (\"Response\" in x)\n",
    "df_transm_out = net_balance(path, \"demand\", f) # out from balance\n",
    "df_transm_in = net_balance(path, \"supply\", f) # in to balance\n",
    "\n",
    "f = lambda x : (\"Transm\" not in x) and (\"Response\" not in x)\n",
    "df_sup = net_balance(path, \"supply\", f)\n",
    "df_dem = net_balance(path, \"demand\", f)\n",
    "\n",
    "df_supply = df_sup + df_transm_out * 0\n",
    "df_demand = df_dem + df_transm_in * 0\n",
    "\n",
    "df_supply.columns.name = \"\"\n",
    "df_demand.columns.name = \"\""
   ]
  },
  {
   "cell_type": "code",
   "execution_count": null,
   "id": "42d86f98",
   "metadata": {},
   "outputs": [],
   "source": [
    "fin = lambda x : \"in\" in x\n",
    "fout = lambda x : \"out\" in x\n",
    "fborder = lambda x : not (\"in\" in x or \"out\" in x)\n",
    "name_convert = lambda x, name: \"Transm_\" + x.split(\"_\")[1].replace(name, \"\")\n",
    "in_lookup = dict([(name_convert(e, \"in\"), e) for e in df_flowbased.columns if fin(e)])\n",
    "out_lookup = dict([(name_convert(e, \"out\"), e) for e in df_flowbased.columns if fout(e)])\n",
    "border_lookup = dict([(name_convert(e, \"\"), e) for e in df_flowbased.columns if fborder(e)])\n",
    "\n",
    "def get_lookup_value(lookup, transfer):\n",
    "    # checks both direction A->B, B->A\n",
    "    rev = lambda x: \"Transm_\" + \"->\".join(reversed(x.replace(\"Transm_\", \"\").split(\"->\")))\n",
    "    res = lookup.get(rev(transfer), None)\n",
    "    if not res:\n",
    "        res = lookup.get(rev(transfer), None)\n",
    "    return res"
   ]
  },
  {
   "cell_type": "code",
   "execution_count": null,
   "id": "5c8e53e1",
   "metadata": {},
   "outputs": [],
   "source": [
    "t = 600\n",
    "\n",
    "transfers = [e for e in df_demandnames.columns if \"Transm\" in str(e)]\n",
    "areas0 = [tr.replace(\"Transm_\", \"\").split(\"->\")[0] for tr in transfers]\n",
    "areas1 = [tr.replace(\"Transm_\", \"\").split(\"->\")[1] for tr in transfers]\n",
    "\n",
    "transfer_values_demand = [df_demandnames[transfer][t] for transfer in transfers]\n",
    "transfer_values_supply = [df_supplynames[transfer][t] for transfer in transfers]\n",
    "\n",
    "border_flowbased_values = [df_flowbased.iloc[t].get( get_lookup_value(border_lookup, transfer) ) for transfer in transfers]\n",
    "in_flowbased_values = [df_flowbased.iloc[t].get( get_lookup_value(in_lookup, transfer) ) for transfer in transfers]\n",
    "out_flowbased_values = [df_flowbased.iloc[t].get( get_lookup_value(out_lookup, transfer) ) for transfer in transfers]\n",
    "\n",
    "prices_area0 = df_prices.iloc[t][areas0].tolist()\n",
    "demand_area0 = df_demand.iloc[t][areas0].tolist()\n",
    "supply_area0 = df_supply.iloc[t][areas0].tolist()\n",
    "prices_area1 = df_prices.iloc[t][areas1].tolist()\n",
    "demand_area1 = df_demand.iloc[t][areas1].tolist()\n",
    "supply_area1 = df_supply.iloc[t][areas1].tolist()\n",
    "\n",
    "NP_area0 = [(df_transm_out - df_transm_in)[area][t] for area in areas0]\n",
    "NP_area1 = [(df_transm_out - df_transm_in)[area][t] for area in areas1]\n",
    "\n",
    "area0_name = [area for area in areas0]\n",
    "area1_name = [area for area in areas1]\n",
    "transfer_name = [transfer for transfer in transfers]\n",
    "\n",
    "m = pd.DataFrame(\n",
    "    [\n",
    "        transfer_values_demand,\n",
    "        transfer_values_supply,\n",
    "        border_flowbased_values,\n",
    "        in_flowbased_values,\n",
    "        out_flowbased_values,\n",
    "        prices_area0 ,\n",
    "        prices_area1 ,\n",
    "        NP_area0,\n",
    "        NP_area1,\n",
    "        demand_area0 ,\n",
    "        demand_area1 ,\n",
    "        supply_area0 ,\n",
    "        supply_area1, \n",
    "        area0_name, \n",
    "        area1_name, \n",
    "        transfer_name\n",
    "    ]\n",
    ").T\n",
    "\n",
    "m.columns = [\n",
    "    \"transfer_values_demand\",\n",
    "    \"transfer_values_supply\",\n",
    "    \"border_flowbased_values\",\n",
    "    \"in_flowbased_values\",\n",
    "    \"out_flowbased_values\",\n",
    "    \"prices_area0\" ,\n",
    "    \"prices_area1\" ,\n",
    "    \"NP_area0\",\n",
    "    \"NP_area1\",\n",
    "    \"demand_area0\" ,\n",
    "    \"demand_area1\" ,\n",
    "    \"supply_area0\" ,\n",
    "    \"supply_area1\", \n",
    "    \"area0_name\", \n",
    "    \"area1_name\", \n",
    "    \"transfer_name\"\n",
    "]"
   ]
  },
  {
   "cell_type": "code",
   "execution_count": null,
   "id": "58c35ea2",
   "metadata": {},
   "outputs": [],
   "source": [
    "# border_flowbased_values: constraints that keeps the flow variable for transmissions the same as defined by PTDF table\n",
    "# in_flowbased_values: constraints for line using RAM, going positive direction\n",
    "# out_flowbased_values: constraints for line using RAM, going negative direction\n",
    "# None flowbased means NTC capacity\n",
    "\n",
    "m"
   ]
  },
  {
   "cell_type": "markdown",
   "id": "544eaf30",
   "metadata": {},
   "source": [
    "## Example"
   ]
  },
  {
   "cell_type": "code",
   "execution_count": null,
   "id": "bee73747",
   "metadata": {
    "scrolled": false
   },
   "outputs": [],
   "source": [
    "m[m[\"area0_name\"] == \"NORGEMIDT\"]"
   ]
  },
  {
   "cell_type": "code",
   "execution_count": null,
   "id": "78f114bb",
   "metadata": {},
   "outputs": [],
   "source": [
    "m[m[\"area1_name\"] == \"NORGEMIDT\"]"
   ]
  },
  {
   "cell_type": "code",
   "execution_count": null,
   "id": "90d98498",
   "metadata": {},
   "outputs": [],
   "source": [
    "m[m[\"area1_name\"] == \"NORGEMIDT\"][\"NP_area1\"].iloc[0]\n",
    "# NP value means the netto transfer need to go to NORGEMIDT"
   ]
  },
  {
   "cell_type": "code",
   "execution_count": null,
   "id": "b72efc8d",
   "metadata": {},
   "outputs": [],
   "source": [
    "m[m[\"area0_name\"] == \"NORGEMIDT\"][\"supply_area0\"].iloc[0] - m[m[\"area0_name\"] == \"NORGEMIDT\"][\"demand_area0\"].iloc[0]\n",
    "# production - supply for NORGEMIDT"
   ]
  },
  {
   "cell_type": "code",
   "execution_count": null,
   "id": "a0cdba03",
   "metadata": {},
   "outputs": [],
   "source": [
    "sum(m[m[\"area0_name\"] == \"NORGEMIDT\"][\"transfer_values_demand\"]) \n",
    "# Transfer going out from NORGEMIDT\n",
    "# Note: this would also be taken from transfer going into NORGEMIDT from outside"
   ]
  },
  {
   "cell_type": "code",
   "execution_count": null,
   "id": "d405e6dd",
   "metadata": {},
   "outputs": [],
   "source": [
    "sum(m[m[\"area1_name\"] == \"NORGEMIDT\"][\"transfer_values_supply\"])\n",
    "# Transfer going into NORGEMIDT"
   ]
  },
  {
   "cell_type": "code",
   "execution_count": null,
   "id": "af004c28",
   "metadata": {},
   "outputs": [],
   "source": [
    "# Which gives the nettoposition"
   ]
  },
  {
   "cell_type": "markdown",
   "id": "c981b982",
   "metadata": {},
   "source": [
    "## Problems"
   ]
  },
  {
   "cell_type": "code",
   "execution_count": null,
   "id": "b55aec99",
   "metadata": {},
   "outputs": [],
   "source": [
    "# Possible problems:\n",
    "# Static PTDF values can restrict the flow of power to certain part of the network which could go against the optimal solution\n",
    "\n",
    "# Possible Solutions:\n",
    "# Might need to be able to go back and forth if its a dead end node? if not some percentage of power will be lost.\n",
    "# Can not have static PTDF, but recreate PTDF based on demand and generation?"
   ]
  },
  {
   "cell_type": "code",
   "execution_count": null,
   "id": "0ec9a27f",
   "metadata": {},
   "outputs": [],
   "source": []
  }
 ],
 "metadata": {
  "kernelspec": {
   "display_name": "Python 3 (ipykernel)",
   "language": "python",
   "name": "python3"
  },
  "language_info": {
   "codemirror_mode": {
    "name": "ipython",
    "version": 3
   },
   "file_extension": ".py",
   "mimetype": "text/x-python",
   "name": "python",
   "nbconvert_exporter": "python",
   "pygments_lexer": "ipython3",
   "version": "3.11.5"
  }
 },
 "nbformat": 4,
 "nbformat_minor": 5
}
