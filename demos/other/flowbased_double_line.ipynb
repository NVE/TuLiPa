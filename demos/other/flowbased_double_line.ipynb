{
 "cells": [
  {
   "cell_type": "code",
   "execution_count": 1,
   "id": "83686f68",
   "metadata": {},
   "outputs": [
    {
     "data": {
      "text/plain": [
       "remove_cap_for_flowbased_transm (generic function with 1 method)"
      ]
     },
     "execution_count": 1,
     "metadata": {},
     "output_type": "execute_result"
    }
   ],
   "source": [
    "include(dirname(dirname(pwd()))*\"\\\\src\\\\TuLiPa.jl\");\n",
    "using .TuLiPa\n",
    "using Dates, DataFrames, CSV, JSON, Plots, JuMP, HiGHS\n",
    "include(dirname(dirname(pwd())) * raw\"\\demos\\other\\flowbased_utils.jl\")"
   ]
  },
  {
   "cell_type": "code",
   "execution_count": 2,
   "id": "61cf14fc",
   "metadata": {},
   "outputs": [
    {
     "data": {
      "text/plain": [
       "make_connection (generic function with 2 methods)"
      ]
     },
     "execution_count": 2,
     "metadata": {},
     "output_type": "execute_result"
    }
   ],
   "source": [
    "PowerA = 1.0\n",
    "PowerA_cap = 20.0\n",
    "DemandA = 10.0\n",
    "PowerB_cap = 1000000000.0\n",
    "PowerB = 100000000.0\n",
    "DemandB = 100.0\n",
    "PowerC_cap = 1000000000.0 \n",
    "PowerC = 100.0\n",
    "DemandC = 10.0\n",
    "\n",
    "\n",
    "A = \"A\"\n",
    "B = \"B\"\n",
    "C = \"C\"\n",
    "\n",
    "function make_connection(from, to, prefix = \"\")  \n",
    "    \n",
    "    transm_from = replace(from, (\"PowerBalance_\" => \"\"))\n",
    "    transm_to = replace(to, (\"PowerBalance_\" => \"\"))\n",
    "    \n",
    "    flow_name = \"Transm_$(transm_from)->$(transm_to)\" * prefix\n",
    "    arrow_name_from = \"arrow_from$(from)$(to)\" * prefix\n",
    "    arrow_name_to = \"arrow_to$(from)$(to)\" * prefix\n",
    "    balance_from = \"$(from)\"\n",
    "    balance_to = \"$(to)\"\n",
    "    cap_name = \"$(flow_name)_cap\"\n",
    "    elem = [\n",
    "        DataElement(\"Flow\", \"BaseFlow\", flow_name, Dict()),    \n",
    "        DataElement(\"Arrow\", \"BaseArrow\", arrow_name_from, Dict(\"Balance\" => balance_from, \"Flow\" => flow_name, \"Conversion\" => 1.0, \"Direction\" => \"Out\")),\n",
    "        DataElement(\"Arrow\", \"BaseArrow\", arrow_name_to, Dict(\"Balance\" => balance_to, \"Flow\" => flow_name, \"Conversion\" => 1.0, \"Direction\" => \"In\")),\n",
    "    ]    \n",
    "    return elem\n",
    "end"
   ]
  },
  {
   "cell_type": "code",
   "execution_count": 3,
   "id": "0412ba05",
   "metadata": {},
   "outputs": [
    {
     "data": {
      "text/plain": [
       "false"
      ]
     },
     "execution_count": 3,
     "metadata": {},
     "output_type": "execute_result"
    }
   ],
   "source": [
    "create_duplicated_flow = false"
   ]
  },
  {
   "cell_type": "code",
   "execution_count": 4,
   "id": "b3d22320",
   "metadata": {},
   "outputs": [
    {
     "data": {
      "text/plain": [
       "create_elements (generic function with 1 method)"
      ]
     },
     "execution_count": 4,
     "metadata": {},
     "output_type": "execute_result"
    }
   ],
   "source": [
    "function create_elements()\n",
    "    elements = [\n",
    "\n",
    "        DataElement(\"Balance\", \"BaseBalance\", A, Dict{Any, Any}(\"Commodity\" => \"Power\")),    \n",
    "        DataElement(\"Flow\", \"BaseFlow\", \"PowerA\", Dict{Any, Any}()),\n",
    "        DataElement(\"Arrow\", \"BaseArrow\", \"ArrowA\", Dict{Any, Any}(\"Balance\" => A, \"Flow\" => \"PowerA\", \"Conversion\" => 1.0, \"Direction\" => \"In\")),\n",
    "        DataElement(\"Cost\", \"CostTerm\", \"PowerA_cost\", Dict{Any, Any}(\"Param\" => PowerA, \"WhichInstance\" => \"PowerA\", \"WhichConcept\" => \"Flow\", \"Direction\" => \"In\")),\n",
    "        DataElement(\"Capacity\", \"PositiveCapacity\", \"PowerA_cap\", Dict{Any, Any}(\"Param\" => \"PowerA_cap\", \"WhichInstance\" => \"PowerA\", \"WhichConcept\" => \"Flow\", \"Bound\" => \"Upper\")),\n",
    "        DataElement(\"Param\", \"MWToGWhSeriesParam\", \"PowerA_cap\", Dict{Any, Any}(\"Level\" => PowerA_cap, \"Profile\" => 1.0)),\n",
    "        DataElement(\"Param\", \"MWToGWhSeriesParam\", \"DemandA\", Dict(\"Level\" => DemandA , \"Profile\" => 1.0)),\n",
    "        DataElement(\"RHSTerm\", \"BaseRHSTerm\", \"DemandA\", Dict{Any, Any}(\"Balance\" => A, \"Param\" => \"DemandA\", \"Direction\" => \"Out\")),\n",
    "\n",
    "        DataElement(\"Balance\", \"BaseBalance\", B, Dict{Any, Any}(\"Commodity\" => \"Power\")),    \n",
    "        DataElement(\"Flow\", \"BaseFlow\", \"PowerB\", Dict{Any, Any}()),\n",
    "        DataElement(\"Arrow\", \"BaseArrow\", \"ArrowB\", Dict{Any, Any}(\"Balance\" => B, \"Flow\" => \"PowerB\", \"Conversion\" => 1.0, \"Direction\" => \"In\")),\n",
    "        DataElement(\"Cost\", \"CostTerm\", \"PowerB_cost\", Dict{Any, Any}(\"Param\" => PowerB, \"WhichInstance\" => \"PowerB\", \"WhichConcept\" => \"Flow\", \"Direction\" => \"In\")),\n",
    "        DataElement(\"Capacity\", \"PositiveCapacity\", \"PowerB_cap\", Dict{Any, Any}(\"Param\" => \"PowerB_cap\", \"WhichInstance\" => \"PowerB\", \"WhichConcept\" => \"Flow\", \"Bound\" => \"Upper\")),\n",
    "        DataElement(\"Param\", \"MWToGWhSeriesParam\", \"PowerB_cap\", Dict{Any, Any}(\"Level\" => PowerB_cap, \"Profile\" => 1.0)),\n",
    "        DataElement(\"Param\", \"MWToGWhSeriesParam\", \"DemandB\", Dict(\"Level\" => DemandB , \"Profile\" => 1.0)),\n",
    "        DataElement(\"RHSTerm\", \"BaseRHSTerm\", \"DemandB\", Dict{Any, Any}(\"Balance\" => B, \"Param\" => \"DemandB\", \"Direction\" => \"Out\")),\n",
    "\n",
    "        DataElement(\"Balance\", \"BaseBalance\", C, Dict{Any, Any}(\"Commodity\" => \"Power\")),    \n",
    "        DataElement(\"Flow\", \"BaseFlow\", \"PowerC\", Dict{Any, Any}()),\n",
    "        DataElement(\"Arrow\", \"BaseArrow\", \"ArrowC\", Dict{Any, Any}(\"Balance\" => C, \"Flow\" => \"PowerC\", \"Conversion\" => 1.0, \"Direction\" => \"In\")),\n",
    "        DataElement(\"Cost\", \"CostTerm\", \"PowerC_cost\", Dict{Any, Any}(\"Param\" => PowerC, \"WhichInstance\" => \"PowerC\", \"WhichConcept\" => \"Flow\", \"Direction\" => \"In\")),\n",
    "        DataElement(\"Capacity\", \"PositiveCapacity\", \"PowerC_cap\", Dict{Any, Any}(\"Param\" => \"PowerC_cap\", \"WhichInstance\" => \"PowerC\", \"WhichConcept\" => \"Flow\", \"Bound\" => \"Upper\")),\n",
    "        DataElement(\"Param\", \"MWToGWhSeriesParam\", \"PowerC_cap\", Dict{Any, Any}(\"Level\" => PowerC_cap, \"Profile\" => 1.0)),\n",
    "        DataElement(\"Param\", \"MWToGWhSeriesParam\", \"DemandC\", Dict(\"Level\" => DemandC , \"Profile\" => 1.0)),\n",
    "        DataElement(\"RHSTerm\", \"BaseRHSTerm\", \"DemandC\", Dict{Any, Any}(\"Balance\" => C, \"Param\" => \"DemandC\", \"Direction\" => \"Out\"))\n",
    "    ]\n",
    "\n",
    "    elements = vcat(elements, make_connection(A, B))\n",
    "    elements = vcat(elements, make_connection(B, A))\n",
    "\n",
    "    elements = vcat(elements, make_connection(A, C))\n",
    "    elements = vcat(elements, make_connection(C, A))\n",
    "    \n",
    "    if create_duplicated_flow\n",
    "        elements = vcat(elements, make_connection(A, C, \"|1\"))\n",
    "        elements = vcat(elements, make_connection(C, A, \"|1\"))  \n",
    "    end\n",
    "            \n",
    "    elements = vcat(elements, make_connection(B, C))\n",
    "    elements = vcat(elements, make_connection(C, B))\n",
    "\n",
    "    power_horizon = SequentialHorizon(1, Day(1))\n",
    "    push!(elements, getelement(COMMODITY_CONCEPT, \"BaseCommodity\", \"Power\", (HORIZON_CONCEPT, power_horizon)))\n",
    "    addscenariotimeperiod!(elements, \"ScenarioTimePeriod\", getisoyearstart(1981), getisoyearstart(1983));\n",
    "    return elements\n",
    "end"
   ]
  },
  {
   "cell_type": "code",
   "execution_count": 7,
   "id": "a09807fb",
   "metadata": {
    "scrolled": true
   },
   "outputs": [
    {
     "data": {
      "text/html": [
       "<div><div style = \"float: left;\"><span>7×6 DataFrame</span></div><div style = \"clear: both;\"></div></div><div class = \"data-frame\" style = \"overflow-x: scroll;\"><table class = \"data-frame\" style = \"margin-bottom: 6px;\"><thead><tr class = \"header\"><th class = \"rowNumber\" style = \"font-weight: bold; text-align: right;\">Row</th><th style = \"text-align: left;\">line</th><th style = \"text-align: left;\">RAM</th><th style = \"text-align: left;\">border</th><th style = \"text-align: left;\">A</th><th style = \"text-align: left;\">B</th><th style = \"text-align: left;\">C</th></tr><tr class = \"subheader headerLastRow\"><th class = \"rowNumber\" style = \"font-weight: bold; text-align: right;\"></th><th title = \"String\" style = \"text-align: left;\">String</th><th title = \"Union{Missing, Float64}\" style = \"text-align: left;\">Float64?</th><th title = \"Bool\" style = \"text-align: left;\">Bool</th><th title = \"Float64\" style = \"text-align: left;\">Float64</th><th title = \"Float64\" style = \"text-align: left;\">Float64</th><th title = \"Int64\" style = \"text-align: left;\">Int64</th></tr></thead><tbody><tr><td class = \"rowNumber\" style = \"font-weight: bold; text-align: right;\">1</td><td style = \"text-align: left;\">non_flowTransm_A-&gt;B</td><td style = \"text-align: right;\">100000.0</td><td style = \"text-align: right;\">false</td><td style = \"text-align: right;\">0.2</td><td style = \"text-align: right;\">-0.4</td><td style = \"text-align: right;\">0</td></tr><tr><td class = \"rowNumber\" style = \"font-weight: bold; text-align: right;\">2</td><td style = \"text-align: left;\">non_flowTransm_A-&gt;C</td><td style = \"text-align: right;\">0.2</td><td style = \"text-align: right;\">false</td><td style = \"text-align: right;\">0.4</td><td style = \"text-align: right;\">0.2</td><td style = \"text-align: right;\">0</td></tr><tr><td class = \"rowNumber\" style = \"font-weight: bold; text-align: right;\">3</td><td style = \"text-align: left;\">non_flowTransm_A-&gt;C|1</td><td style = \"text-align: right;\">400.0</td><td style = \"text-align: right;\">false</td><td style = \"text-align: right;\">0.4</td><td style = \"text-align: right;\">0.2</td><td style = \"text-align: right;\">0</td></tr><tr><td class = \"rowNumber\" style = \"font-weight: bold; text-align: right;\">4</td><td style = \"text-align: left;\">non_flowTransm_B-&gt;C</td><td style = \"text-align: right;\">100000.0</td><td style = \"text-align: right;\">false</td><td style = \"text-align: right;\">0.2</td><td style = \"text-align: right;\">0.6</td><td style = \"text-align: right;\">0</td></tr><tr><td class = \"rowNumber\" style = \"font-weight: bold; text-align: right;\">5</td><td style = \"text-align: left;\">Transm_A-&gt;B</td><td style = \"font-style: italic; text-align: right;\">missing</td><td style = \"text-align: right;\">true</td><td style = \"text-align: right;\">0.2</td><td style = \"text-align: right;\">-0.4</td><td style = \"text-align: right;\">0</td></tr><tr><td class = \"rowNumber\" style = \"font-weight: bold; text-align: right;\">6</td><td style = \"text-align: left;\">Transm_A-&gt;C</td><td style = \"font-style: italic; text-align: right;\">missing</td><td style = \"text-align: right;\">true</td><td style = \"text-align: right;\">0.8</td><td style = \"text-align: right;\">0.4</td><td style = \"text-align: right;\">0</td></tr><tr><td class = \"rowNumber\" style = \"font-weight: bold; text-align: right;\">7</td><td style = \"text-align: left;\">Transm_B-&gt;C</td><td style = \"font-style: italic; text-align: right;\">missing</td><td style = \"text-align: right;\">true</td><td style = \"text-align: right;\">0.2</td><td style = \"text-align: right;\">0.6</td><td style = \"text-align: right;\">0</td></tr></tbody></table></div>"
      ],
      "text/latex": [
       "\\begin{tabular}{r|cccccc}\n",
       "\t& line & RAM & border & A & B & C\\\\\n",
       "\t\\hline\n",
       "\t& String & Float64? & Bool & Float64 & Float64 & Int64\\\\\n",
       "\t\\hline\n",
       "\t1 & non\\_flowTransm\\_A->B & 100000.0 & 0 & 0.2 & -0.4 & 0 \\\\\n",
       "\t2 & non\\_flowTransm\\_A->C & 0.2 & 0 & 0.4 & 0.2 & 0 \\\\\n",
       "\t3 & non\\_flowTransm\\_A->C|1 & 400.0 & 0 & 0.4 & 0.2 & 0 \\\\\n",
       "\t4 & non\\_flowTransm\\_B->C & 100000.0 & 0 & 0.2 & 0.6 & 0 \\\\\n",
       "\t5 & Transm\\_A->B & \\emph{missing} & 1 & 0.2 & -0.4 & 0 \\\\\n",
       "\t6 & Transm\\_A->C & \\emph{missing} & 1 & 0.8 & 0.4 & 0 \\\\\n",
       "\t7 & Transm\\_B->C & \\emph{missing} & 1 & 0.2 & 0.6 & 0 \\\\\n",
       "\\end{tabular}\n"
      ],
      "text/plain": [
       "\u001b[1m7×6 DataFrame\u001b[0m\n",
       "\u001b[1m Row \u001b[0m│\u001b[1m line                  \u001b[0m\u001b[1m RAM       \u001b[0m\u001b[1m border \u001b[0m\u001b[1m A       \u001b[0m\u001b[1m B       \u001b[0m\u001b[1m C     \u001b[0m\n",
       "     │\u001b[90m String                \u001b[0m\u001b[90m Float64?  \u001b[0m\u001b[90m Bool   \u001b[0m\u001b[90m Float64 \u001b[0m\u001b[90m Float64 \u001b[0m\u001b[90m Int64 \u001b[0m\n",
       "─────┼───────────────────────────────────────────────────────────────────\n",
       "   1 │ non_flowTransm_A->B     100000.0   false      0.2     -0.4      0\n",
       "   2 │ non_flowTransm_A->C          0.2   false      0.4      0.2      0\n",
       "   3 │ non_flowTransm_A->C|1      400.0   false      0.4      0.2      0\n",
       "   4 │ non_flowTransm_B->C     100000.0   false      0.2      0.6      0\n",
       "   5 │ Transm_A->B           \u001b[90m missing   \u001b[0m   true      0.2     -0.4      0\n",
       "   6 │ Transm_A->C           \u001b[90m missing   \u001b[0m   true      0.8      0.4      0\n",
       "   7 │ Transm_B->C           \u001b[90m missing   \u001b[0m   true      0.2      0.6      0"
      ]
     },
     "execution_count": 7,
     "metadata": {},
     "output_type": "execute_result"
    }
   ],
   "source": [
    "df = DataFrame(\n",
    "    line=[\"Transm_A->B\", \"Transm_A->C\", \"Transm_A->C|1\",  \"Transm_B->C\"],\n",
    "    RAM = [100000.0, 0.2, 400, 100000.0],\n",
    "    A = [0.2, 0.4, 0.4, 0.2],\n",
    "    B = [-0.4, 0.2, 0.2, 0.6],\n",
    "    C = [0, 0, 0, 0]\n",
    ")\n",
    "\n",
    "function process_df_aggregate(df)\n",
    "    df_copy = copy(df)\n",
    "    df_copy.RAM .= missing\n",
    "    df_copy.border .= true\n",
    "    df_copy = df_copy[df_copy.line .!= \"Transm_A->C|1\", :]\n",
    "    df_copy[2, Not([\"line\", \"RAM\", \"border\"])] = [0.8, 0.4, 0]\n",
    "\n",
    "    df.border .= false\n",
    "    df.line = \"non_flow\" .* df.line\n",
    "    df = vcat(df, df_copy)\n",
    "    df = select(df, [\"line\", \"RAM\", \"border\"], Not([\"line\", \"RAM\", \"border\"]))\n",
    "    return df\n",
    "end\n",
    "\n",
    "function process_df(df)\n",
    "    df_copy = copy(df)\n",
    "    df_copy.RAM .= missing\n",
    "    df_copy.border .= true\n",
    "\n",
    "    df.border .= false\n",
    "    df.line = \"non_flow\" .* df.line\n",
    "    df = vcat(df, df_copy)\n",
    "    df = select(df, [\"line\", \"RAM\", \"border\"], Not([\"line\", \"RAM\", \"border\"]))\n",
    "    return df\n",
    "end\n",
    "\n",
    "if create_duplicated_flow\n",
    "    df = process_df(df)\n",
    "else\n",
    "    df = process_df_aggregate(df)\n",
    "end"
   ]
  },
  {
   "cell_type": "code",
   "execution_count": 6,
   "id": "55cb88e6",
   "metadata": {
    "scrolled": false
   },
   "outputs": [
    {
     "data": {
      "text/latex": [
       "$$ \\begin{aligned}\n",
       "\\min\\quad & 100 FlowPowerC_{1} + FlowPowerA_{1} + 100000000 FlowPowerB_{1}\\\\\n",
       "\\text{Subject to} \\quad & 0.4 FlowTransm\\_A->B_{1} + 0.2 FlowTransm\\_C->A_{1} - 0.4 FlowTransm\\_C->B_{1} - 0.4 FlowTransm\\_B->A_{1} + 0.4 FlowTransm\\_B->C_{1} - 0.2 FlowTransm\\_A->C_{1} = 0\\\\\n",
       " & -0.4 FlowTransm\\_A->B_{1} - 0.19999999999999996 FlowTransm\\_C->A_{1} + 0.4 FlowTransm\\_C->B_{1} + 0.4 FlowTransm\\_B->A_{1} - 0.4 FlowTransm\\_B->C_{1} + 0.19999999999999996 FlowTransm\\_A->C_{1} = 0\\\\\n",
       " & -FlowPowerA_{1} + FlowTransm\\_A->B_{1} + FlowTransm\\_A->C_{1} - FlowTransm\\_B->A_{1} - FlowTransm\\_C->A_{1} = -0.24\\\\\n",
       " & -FlowPowerC_{1} - FlowTransm\\_A->C_{1} + FlowTransm\\_C->B_{1} + FlowTransm\\_C->A_{1} - FlowTransm\\_B->C_{1} = -0.24\\\\\n",
       " & -FlowTransm\\_A->B_{1} - FlowPowerB_{1} + FlowTransm\\_B->A_{1} - FlowTransm\\_C->B_{1} + FlowTransm\\_B->C_{1} = -2.4\\\\\n",
       " & 0.39999999999999997 FlowTransm\\_A->B_{1} + 0.2 FlowTransm\\_C->A_{1} - 0.4 FlowTransm\\_C->B_{1} - 0.39999999999999997 FlowTransm\\_B->A_{1} + 0.4 FlowTransm\\_B->C_{1} - 0.2 FlowTransm\\_A->C_{1} = 0\\\\\n",
       " & -0.2 FlowTransm\\_A->B_{1} + 0.4 FlowTransm\\_C->A_{1} + 0.2 FlowTransm\\_C->B_{1} + 0.2 FlowTransm\\_B->A_{1} - 0.2 FlowTransm\\_B->C_{1} - 0.4 FlowTransm\\_A->C_{1} \\leq 400\\\\\n",
       " & 0.2 FlowTransm\\_A->B_{1} - 0.4 FlowTransm\\_C->A_{1} - 0.2 FlowTransm\\_C->B_{1} - 0.2 FlowTransm\\_B->A_{1} + 0.2 FlowTransm\\_B->C_{1} + 0.4 FlowTransm\\_A->C_{1} \\leq 400\\\\\n",
       " & -0.2 FlowTransm\\_A->B_{1} + 0.4 FlowTransm\\_C->A_{1} + 0.2 FlowTransm\\_C->B_{1} + 0.2 FlowTransm\\_B->A_{1} - 0.2 FlowTransm\\_B->C_{1} - 0.4 FlowTransm\\_A->C_{1} \\leq 0.2\\\\\n",
       " & 0.2 FlowTransm\\_A->B_{1} - 0.4 FlowTransm\\_C->A_{1} - 0.2 FlowTransm\\_C->B_{1} - 0.2 FlowTransm\\_B->A_{1} + 0.2 FlowTransm\\_B->C_{1} + 0.4 FlowTransm\\_A->C_{1} \\leq 0.2\\\\\n",
       " & -0.6000000000000001 FlowTransm\\_A->B_{1} + 0.2 FlowTransm\\_C->A_{1} - 0.4 FlowTransm\\_C->B_{1} + 0.6000000000000001 FlowTransm\\_B->A_{1} + 0.4 FlowTransm\\_B->C_{1} - 0.2 FlowTransm\\_A->C_{1} \\leq 100000\\\\\n",
       " & 0.6000000000000001 FlowTransm\\_A->B_{1} - 0.2 FlowTransm\\_C->A_{1} + 0.4 FlowTransm\\_C->B_{1} - 0.6000000000000001 FlowTransm\\_B->A_{1} - 0.4 FlowTransm\\_B->C_{1} + 0.2 FlowTransm\\_A->C_{1} \\leq 100000\\\\\n",
       " & 0.39999999999999997 FlowTransm\\_A->B_{1} + 0.2 FlowTransm\\_C->A_{1} + 0.6 FlowTransm\\_C->B_{1} - 0.39999999999999997 FlowTransm\\_B->A_{1} - 0.6 FlowTransm\\_B->C_{1} - 0.2 FlowTransm\\_A->C_{1} \\leq 100000\\\\\n",
       " & -0.39999999999999997 FlowTransm\\_A->B_{1} - 0.2 FlowTransm\\_C->A_{1} - 0.6 FlowTransm\\_C->B_{1} + 0.39999999999999997 FlowTransm\\_B->A_{1} + 0.6 FlowTransm\\_B->C_{1} + 0.2 FlowTransm\\_A->C_{1} \\leq 100000\\\\\n",
       " & FlowPowerC_{1} \\geq 0\\\\\n",
       " & FlowPowerA_{1} \\geq 0\\\\\n",
       " & FlowTransm\\_A->B_{1} \\geq 0\\\\\n",
       " & FlowTransm\\_A->C_{1} \\geq 0\\\\\n",
       " & FlowPowerB_{1} \\geq 0\\\\\n",
       " & FlowTransm\\_B->A_{1} \\geq 0\\\\\n",
       " & FlowTransm\\_C->B_{1} \\geq 0\\\\\n",
       " & FlowTransm\\_C->A_{1} \\geq 0\\\\\n",
       " & FlowTransm\\_B->C_{1} \\geq 0\\\\\n",
       " & FlowPowerC_{1} \\leq 24000000\\\\\n",
       " & FlowPowerA_{1} \\leq 0.48\\\\\n",
       " & FlowPowerB_{1} \\leq 24000000\\\\\n",
       "\\end{aligned} $$"
      ]
     },
     "metadata": {},
     "output_type": "display_data"
    },
    {
     "name": "stdout",
     "output_type": "stream",
     "text": [
      "* Solver : HiGHS\n",
      "\n",
      "* Status\n",
      "  Result count       : 1\n",
      "  Termination status : OPTIMAL\n",
      "  Message from the solver:\n",
      "  \"kHighsModelStatusOptimal\"\n",
      "\n",
      "* Candidate solution (result #1)\n",
      "  Primal status      : FEASIBLE_POINT\n",
      "  Dual status        : FEASIBLE_POINT\n",
      "  Objective value    : 9.20001e+07\n",
      "  Objective bound    : 0.00000e+00\n",
      "  Relative gap       : Inf\n",
      "  Dual objective value : 9.20001e+07\n",
      "  Primal solution :\n",
      "    FlowPowerA[1] : 4.80000e-01\n",
      "    FlowPowerB[1] : 9.20000e-01\n",
      "    FlowPowerC[1] : 1.48000e+00\n",
      "    FlowTransm_A->B[1] : 6.40000e-01\n",
      "    FlowTransm_A->C[1] : 0.00000e+00\n",
      "    FlowTransm_B->A[1] : 0.00000e+00\n",
      "    FlowTransm_B->C[1] : 0.00000e+00\n",
      "    FlowTransm_C->A[1] : 4.00000e-01\n",
      "    FlowTransm_C->B[1] : 8.40000e-01\n",
      "  Dual solution :\n",
      "    BalanceA[1] : -2.00000e+08\n",
      "    BalanceB[1] : -1.00000e+08\n",
      "    BalanceC[1] : -1.00000e+02\n",
      "    FlowBasedTransm_A->B[1] : -0.00000e+00\n",
      "    FlowBasedTransm_A->C[1] : -0.00000e+00\n",
      "    FlowBasedTransm_B->C[1] : -0.00000e+00\n",
      "    FlowBasednon_flowTransm_A->Bin[1] : 0.00000e+00\n",
      "    FlowBasednon_flowTransm_A->Bout[1] : 0.00000e+00\n",
      "    FlowBasednon_flowTransm_A->Cin[1] : -5.00000e+08\n",
      "    FlowBasednon_flowTransm_A->Cout[1] : 0.00000e+00\n",
      "    FlowBasednon_flowTransm_A->C|1in[1] : 0.00000e+00\n",
      "    FlowBasednon_flowTransm_A->C|1out[1] : 0.00000e+00\n",
      "    FlowBasednon_flowTransm_B->Cin[1] : 0.00000e+00\n",
      "    FlowBasednon_flowTransm_B->Cout[1] : 0.00000e+00\n",
      "\n",
      "* Work counters\n",
      "  Solve time (sec)   : 9.95874e-04\n",
      "  Simplex iterations : 5\n",
      "  Barrier iterations : 0\n",
      "  Node count         : -1\n"
     ]
    }
   ],
   "source": [
    "elements = create_elements()\n",
    "transm = [e for e in elements if is_transmission(e)]\n",
    "T = DataElement\n",
    "flow_based = make_flowbased(df, transm)\n",
    "elements = vcat(elements,  flow_based)\n",
    "\n",
    "modelobjects = getmodelobjects(elements)\n",
    "mymodel = JuMP.Model(HiGHS.Optimizer)\n",
    "prob = JuMP_Prob(modelobjects, mymodel)\n",
    "datatime = getisoyearstart(2023)\n",
    "scenariotime = getisoyearstart(1981)\n",
    "prob_time = TwoTime(datatime, scenariotime)\n",
    "update!(prob, prob_time)\n",
    "solve!(prob)\n",
    "print(prob.model)\n",
    "print(solution_summary(prob.model, verbose = true))"
   ]
  },
  {
   "cell_type": "code",
   "execution_count": null,
   "id": "d422295d",
   "metadata": {},
   "outputs": [],
   "source": []
  }
 ],
 "metadata": {
  "kernelspec": {
   "display_name": "Julia 1.9.2",
   "language": "julia",
   "name": "julia-1.9"
  },
  "language_info": {
   "file_extension": ".jl",
   "mimetype": "application/julia",
   "name": "julia",
   "version": "1.9.2"
  }
 },
 "nbformat": 4,
 "nbformat_minor": 5
}
