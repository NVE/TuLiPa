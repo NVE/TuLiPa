{
 "cells": [
  {
   "cell_type": "code",
   "execution_count": 1,
   "id": "429e1141",
   "metadata": {},
   "outputs": [
    {
     "data": {
      "text/plain": [
       "remove_cap_for_flowbased_transm (generic function with 1 method)"
      ]
     },
     "execution_count": 1,
     "metadata": {},
     "output_type": "execute_result"
    }
   ],
   "source": [
    "include(dirname(dirname(pwd()))*\"\\\\src\\\\TuLiPa.jl\");\n",
    "using .TuLiPa\n",
    "using Dates, DataFrames, CSV, JSON, Plots, JuMP, HiGHS\n",
    "include(dirname(dirname(pwd())) * raw\"\\demos\\other\\flowbased_utils.jl\")"
   ]
  },
  {
   "cell_type": "code",
   "execution_count": 2,
   "id": "6641f971",
   "metadata": {},
   "outputs": [
    {
     "data": {
      "text/plain": [
       "\"X:\\\\Prosjekter\\\\2022_FoU_markedsmodell_julia\\\\per\\\\tulipa_nett\\\\input\\\\Uke_31\\\\input\\\\nett.json\""
      ]
     },
     "execution_count": 2,
     "metadata": {},
     "output_type": "execute_result"
    }
   ],
   "source": [
    "ptdf_csv_path = raw\"X:\\Prosjekter\\2022_FoU_markedsmodell_julia\\per\\tulipa_nett\\TuLiPa\\demos\\other\\ptdfs_new.csv\"\n",
    "net_data_path = raw\"X:\\Prosjekter\\2022_FoU_markedsmodell_julia\\per\\tulipa_nett\\input\\Uke_31\\input\\nett.json\""
   ]
  },
  {
   "cell_type": "code",
   "execution_count": 3,
   "id": "2da61a4e",
   "metadata": {},
   "outputs": [],
   "source": [
    "balances = [\"PowerBalance_FINLAND\",\n",
    "\"PowerBalance_VESTSYD\",\n",
    "\"PowerBalance_HALLINGDAL\",\n",
    "\"PowerBalance_TELEMARK\",\n",
    "\"PowerBalance_RUSSLAND_EKS\",\n",
    "\"PowerBalance_HAUGESUND\",\n",
    "\"PowerBalance_VESTMIDT\",\n",
    "\"PowerBalance_RUSSLAND_IMP\",\n",
    "\"PowerBalance_FINNMARK\",\n",
    "\"PowerBalance_DANM-DK1\",\n",
    "\"PowerBalance_SVARTISEN\",\n",
    "\"PowerBalance_SOROST\",\n",
    "\"PowerBalance_SVER-SE2\",\n",
    "\"PowerBalance_NORGEMIDT\",\n",
    "\"PowerBalance_SORLAND\",\n",
    "\"PowerBalance_POLEN\",\n",
    "\"PowerBalance_SVER-SE3\",\n",
    "\"PowerBalance_MOERE\",\n",
    "\"PowerBalance_NEDERLAND\",\n",
    "\"PowerBalance_DANM-DK2\",\n",
    "\"PowerBalance_OSTLAND\",\n",
    "\"PowerBalance_UK\",\n",
    "\"PowerBalance_HELGELAND\",\n",
    "\"PowerBalance_SVER-SE1\",\n",
    "\"PowerBalance_ESTLAND\",\n",
    "\"PowerBalance_SVER-SE4\",\n",
    "\"PowerBalance_TYSKLAND\",\n",
    "\"PowerBalance_TROMS\",\n",
    "\"PowerBalance_SVER-SE3A\",\n",
    "\"PowerBalance_NORDVEST\",\n",
    "\"PowerBalance_LITAUEN\"];"
   ]
  },
  {
   "cell_type": "markdown",
   "id": "d1c00f10",
   "metadata": {},
   "source": [
    "## Create modelobjects and solve"
   ]
  },
  {
   "cell_type": "code",
   "execution_count": 4,
   "id": "e4ce4dc1",
   "metadata": {},
   "outputs": [
    {
     "data": {
      "text/plain": [
       "temp_get_data (generic function with 1 method)"
      ]
     },
     "execution_count": 4,
     "metadata": {},
     "output_type": "execute_result"
    }
   ],
   "source": [
    "function temp_get_data(net_data_path)\n",
    "    transm = TuLiPa.getelements(JSON.parsefile(net_data_path), net_data_path)\n",
    "\n",
    "    power_horizon = TuLiPa.SequentialHorizon(2, Day(1))\n",
    "    push!(transm, TuLiPa.getelement(TuLiPa.COMMODITY_CONCEPT, \"BaseCommodity\", \"Power\", \n",
    "        (TuLiPa.HORIZON_CONCEPT, power_horizon)))\n",
    "            \n",
    "    TuLiPa.addscenariotimeperiod!(transm, \"ScenarioTimePeriod\", \n",
    "        TuLiPa.getisoyearstart(1991), \n",
    "        TuLiPa.getisoyearstart(2000))\n",
    "\n",
    "    return transm\n",
    "end"
   ]
  },
  {
   "cell_type": "code",
   "execution_count": 5,
   "id": "4de26c38",
   "metadata": {},
   "outputs": [],
   "source": [
    "T = TuLiPa.DataElement\n",
    "\n",
    "transm  = temp_get_data(net_data_path);\n",
    "df = CSV.read(ptdf_csv_path, DataFrame)\n",
    "\n",
    "df = proc_ptdf_csv(df)\n",
    "\n",
    "transm = remove_cap_for_flowbased_transm(transm, df)    \n",
    "flow_based = make_flowbased(df, transm)\n",
    "final_elem = vcat(transm, flow_based)   \n",
    "final_elem = Vector{T}(final_elem);\n",
    "\n",
    "\n",
    "e = [TuLiPa.DataElement(\"Balance\", \"BaseBalance\", b, Dict(\"Commodity\" => \"Power\")) for b in balances]\n",
    "final_elem = vcat(e, final_elem);\n",
    "    \n",
    "modelobjects = TuLiPa.getmodelobjects(final_elem)\n",
    "\n",
    "mymodel = JuMP.Model(HiGHS.Optimizer)\n",
    "prob = TuLiPa.JuMP_Prob(modelobjects, mymodel)\n",
    "datatime = getisoyearstart(2023)\n",
    "scenariotime = getisoyearstart(1981)\n",
    "prob_time = TuLiPa.TwoTime(datatime, scenariotime)    \n",
    "\n",
    "update!(prob, prob_time)\n",
    "solve!(prob)"
   ]
  },
  {
   "cell_type": "code",
   "execution_count": 6,
   "id": "5cb2a943",
   "metadata": {},
   "outputs": [],
   "source": [
    "steps = 1\n",
    "problem = prob\n",
    "resultobjects = collect(values(modelobjects))\n",
    "numperiods_powerhorizon = 1\n",
    "numperiods_hydrohorizon = 1\n",
    "periodduration_power = Day(1)\n",
    "t = 1\n",
    "includeexogenprice=true\n",
    "\n",
    "prices, rhstermvalues, production, consumption, hydrolevels, batterylevels, powerbalances, rhsterms, rhstermbalances, plants, plantbalances, plantarrows, demands, demandbalances, demandarrows, hydrostorages, batterystorages  = init_results(steps, problem, modelobjects, resultobjects, numperiods_powerhorizon, numperiods_hydrohorizon, periodduration_power, t, includeexogenprice);"
   ]
  },
  {
   "cell_type": "code",
   "execution_count": null,
   "id": "adb36b76",
   "metadata": {},
   "outputs": [],
   "source": []
  }
 ],
 "metadata": {
  "kernelspec": {
   "display_name": "Julia 1.9.2",
   "language": "julia",
   "name": "julia-1.9"
  },
  "language_info": {
   "file_extension": ".jl",
   "mimetype": "application/julia",
   "name": "julia",
   "version": "1.9.2"
  }
 },
 "nbformat": 4,
 "nbformat_minor": 5
}
