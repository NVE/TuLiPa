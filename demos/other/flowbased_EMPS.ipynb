{
 "cells": [
  {
   "cell_type": "code",
   "execution_count": null,
   "id": "429e1141",
   "metadata": {},
   "outputs": [],
   "source": [
    "include(dirname(dirname(pwd()))*\"\\\\src\\\\TuLiPa.jl\");\n",
    "using .TuLiPa\n",
    "using Dates, DataFrames, CSV, JSON, Plots, JuMP, HiGHS\n",
    "include(dirname(dirname(pwd())) * raw\"\\demos\\other\\flowbased_utils.jl\")"
   ]
  },
  {
   "cell_type": "code",
   "execution_count": null,
   "id": "605d029b",
   "metadata": {},
   "outputs": [],
   "source": [
    "ptdf_csv_path = raw\"X:\\Prosjekter\\2022_FoU_markedsmodell_julia\\per\\tulipa_nett\\TuLiPa\\demos\\other\\ptdfs_new.csv\"\n",
    "net_data_path = raw\"X:\\Prosjekter\\2022_FoU_markedsmodell_julia\\per\\tulipa_nett\\input\\Uke_31\\input\\nett.json\""
   ]
  },
  {
   "cell_type": "code",
   "execution_count": null,
   "id": "2da61a4e",
   "metadata": {},
   "outputs": [],
   "source": [
    "balances = [\"PowerBalance_FINLAND\",\n",
    "\"PowerBalance_VESTSYD\",\n",
    "\"PowerBalance_HALLINGDAL\",\n",
    "\"PowerBalance_TELEMARK\",\n",
    "\"PowerBalance_RUSSLAND_EKS\",\n",
    "\"PowerBalance_HAUGESUND\",\n",
    "\"PowerBalance_VESTMIDT\",\n",
    "\"PowerBalance_RUSSLAND_IMP\",\n",
    "\"PowerBalance_FINNMARK\",\n",
    "\"PowerBalance_DANM-DK1\",\n",
    "\"PowerBalance_SVARTISEN\",\n",
    "\"PowerBalance_SOROST\",\n",
    "\"PowerBalance_SVER-SE2\",\n",
    "\"PowerBalance_NORGEMIDT\",\n",
    "\"PowerBalance_SORLAND\",\n",
    "\"PowerBalance_POLEN\",\n",
    "\"PowerBalance_SVER-SE3\",\n",
    "\"PowerBalance_MOERE\",\n",
    "\"PowerBalance_NEDERLAND\",\n",
    "\"PowerBalance_DANM-DK2\",\n",
    "\"PowerBalance_OSTLAND\",\n",
    "\"PowerBalance_UK\",\n",
    "\"PowerBalance_HELGELAND\",\n",
    "\"PowerBalance_SVER-SE1\",\n",
    "\"PowerBalance_ESTLAND\",\n",
    "\"PowerBalance_SVER-SE4\",\n",
    "\"PowerBalance_TYSKLAND\",\n",
    "\"PowerBalance_TROMS\",\n",
    "\"PowerBalance_SVER-SE3A\",\n",
    "\"PowerBalance_NORDVEST\",\n",
    "\"PowerBalance_LITAUEN\"];"
   ]
  },
  {
   "cell_type": "code",
   "execution_count": null,
   "id": "0df54052",
   "metadata": {},
   "outputs": [],
   "source": [
    "function create_price_area(balance_name) \n",
    "\n",
    "    power_name = \"Power\" * balance_name\n",
    "    arrow_name = \"Arrow\" * balance_name\n",
    "    power_cost = power_name * \"_cost\"\n",
    "    power_cap = power_name * \"_cap\"\n",
    "    demand = \"Demand\" * balance_name\n",
    "    power_val = 1\n",
    "    power_cap_val = 1\n",
    "    demand_val = 1\n",
    "    \n",
    "    \n",
    "    elem =[\n",
    "        DataElement(\"Balance\", \"BaseBalance\", balance_name, Dict{Any, Any}(\"Commodity\" => \"Power\")),    \n",
    "        DataElement(\"Flow\", \"BaseFlow\", power_name, Dict{Any, Any}()),\n",
    "        DataElement(\"Arrow\", \"BaseArrow\", arrow_name, Dict{Any, Any}(\"Balance\" => balance_name, \"Flow\" => power_name, \"Conversion\" => 1.0, \"Direction\" => \"In\")),\n",
    "        DataElement(\"Cost\", \"CostTerm\", power_cost, Dict{Any, Any}(\"Param\" => power_val, \"WhichInstance\" => power_name, \"WhichConcept\" => \"Flow\", \"Direction\" => \"In\")),\n",
    "        DataElement(\"Capacity\", \"PositiveCapacity\", power_cap, Dict{Any, Any}(\"Param\" =>power_cap, \"WhichInstance\" => power_name, \"WhichConcept\" => \"Flow\", \"Bound\" => \"Upper\")),\n",
    "        DataElement(\"Param\", \"MWToGWhSeriesParam\", power_cap, Dict{Any, Any}(\"Level\" => power_cap_val, \"Profile\" => 1.0)),\n",
    "        DataElement(\"Param\", \"MWToGWhSeriesParam\", demand, Dict(\"Level\" => demand_val , \"Profile\" => 1.0)),\n",
    "        DataElement(\"RHSTerm\", \"BaseRHSTerm\", demand, Dict{Any, Any}(\"Balance\" => balance_name, \"Param\" => demand, \"Direction\" => \"Out\")),\n",
    "    ]\n",
    "    return elem\n",
    "\n",
    "end"
   ]
  },
  {
   "cell_type": "code",
   "execution_count": null,
   "id": "3fe1ec0f",
   "metadata": {},
   "outputs": [],
   "source": [
    "elements = []\n",
    "\n",
    "for balance in balances\n",
    "    elements = vcat(elements, create_price_area(balance))\n",
    "end"
   ]
  },
  {
   "cell_type": "markdown",
   "id": "d1c00f10",
   "metadata": {},
   "source": [
    "## Create modelobjects and solve"
   ]
  },
  {
   "cell_type": "code",
   "execution_count": null,
   "id": "e4ce4dc1",
   "metadata": {},
   "outputs": [],
   "source": [
    "function temp_get_data(net_data_path)\n",
    "    transm = TuLiPa.getelements(JSON.parsefile(net_data_path), net_data_path)\n",
    "\n",
    "    power_horizon = TuLiPa.SequentialHorizon(2, Day(1))\n",
    "    push!(transm, TuLiPa.getelement(TuLiPa.COMMODITY_CONCEPT, \"BaseCommodity\", \"Power\", \n",
    "        (TuLiPa.HORIZON_CONCEPT, power_horizon)))\n",
    "            \n",
    "    TuLiPa.addscenariotimeperiod!(transm, \"ScenarioTimePeriod\", \n",
    "        TuLiPa.getisoyearstart(1991), \n",
    "        TuLiPa.getisoyearstart(2000))\n",
    "\n",
    "    return transm\n",
    "end"
   ]
  },
  {
   "cell_type": "code",
   "execution_count": null,
   "id": "4de26c38",
   "metadata": {},
   "outputs": [],
   "source": [
    "T = TuLiPa.DataElement\n",
    "\n",
    "transm  = temp_get_data(net_data_path);\n",
    "\n",
    "transm = vcat(elements, transm)\n",
    "\n",
    "\n",
    "df = CSV.read(ptdf_csv_path, DataFrame)\n",
    "\n",
    "df = proc_ptdf_csv(df)\n",
    "\n",
    "transm = remove_cap_for_flowbased_transm(transm, df)    \n",
    "flow_based = make_flowbased(df, transm)\n",
    "final_elem = vcat(transm, flow_based)   \n",
    "final_elem = Vector{T}(final_elem);\n",
    "\n",
    "\n",
    "#e = [TuLiPa.DataElement(\"Balance\", \"BaseBalance\", b, Dict(\"Commodity\" => \"Power\")) for b in balances]\n",
    "#final_elem = vcat(e, final_elem);\n",
    "\n",
    "\n",
    "\n",
    "modelobjects = TuLiPa.getmodelobjects(final_elem)\n",
    "\n",
    "mymodel = JuMP.Model(HiGHS.Optimizer)\n",
    "prob = TuLiPa.JuMP_Prob(modelobjects, mymodel)\n",
    "datatime = getisoyearstart(2023)\n",
    "scenariotime = getisoyearstart(1981)\n",
    "prob_time = TuLiPa.TwoTime(datatime, scenariotime)    \n",
    "\n",
    "update!(prob, prob_time)\n",
    "solve!(prob)"
   ]
  },
  {
   "cell_type": "code",
   "execution_count": null,
   "id": "5cb2a943",
   "metadata": {},
   "outputs": [],
   "source": [
    "steps = 1\n",
    "problem = prob\n",
    "resultobjects = collect(values(modelobjects))\n",
    "numperiods_powerhorizon = 1\n",
    "numperiods_hydrohorizon = 1\n",
    "periodduration_power = Day(1)\n",
    "t = 1\n",
    "includeexogenprice=true\n",
    "\n",
    "prices, rhstermvalues, production, consumption, hydrolevels, batterylevels, powerbalances, rhsterms, rhstermbalances, plants, plantbalances, plantarrows, demands, demandbalances, demandarrows, hydrostorages, batterystorages  = init_results(steps, problem, modelobjects, resultobjects, numperiods_powerhorizon, numperiods_hydrohorizon, periodduration_power, t, includeexogenprice);"
   ]
  },
  {
   "cell_type": "code",
   "execution_count": null,
   "id": "e56513ac",
   "metadata": {},
   "outputs": [],
   "source": []
  }
 ],
 "metadata": {
  "kernelspec": {
   "display_name": "Julia 1.9.2",
   "language": "julia",
   "name": "julia-1.9"
  },
  "language_info": {
   "file_extension": ".jl",
   "mimetype": "application/julia",
   "name": "julia",
   "version": "1.9.2"
  }
 },
 "nbformat": 4,
 "nbformat_minor": 5
}
