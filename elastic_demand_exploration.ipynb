{
 "cells": [
  {
   "cell_type": "code",
   "execution_count": 1,
   "id": "b21f8b49",
   "metadata": {},
   "outputs": [
    {
     "name": "stderr",
     "output_type": "stream",
     "text": [
      "\u001b[36m\u001b[1m[ \u001b[22m\u001b[39m\u001b[36m\u001b[1mInfo: \u001b[22m\u001b[39mPrecompiling TuLiPa [970f5c25-cd7d-4f04-b50d-7a4fe2af6639]\n"
     ]
    }
   ],
   "source": [
    "using Dates, DataFrames, CSV, JSON, Plots, JuMP, HiGHS, TuLiPa"
   ]
  },
  {
   "cell_type": "code",
   "execution_count": 10,
   "id": "673cea13",
   "metadata": {},
   "outputs": [],
   "source": [
    "firm_demand = 50.0\n",
    "price_elasticity = -0.05\n",
    "normal_price = 100.0\n",
    "max_price = 150.0\n",
    "min_price = 50.0\n",
    "CapNucGER = 5000.0\n",
    "GenNucGER = 100.0\n",
    "\n",
    "\n",
    "elements = [\n",
    "    DataElement(\"Balance\", \"BaseBalance\", \"PowerBalance_NO2\", Dict{Any, Any}(\"Commodity\" => \"Power\")),    \n",
    "    DataElement(\"Flow\", \"BaseFlow\", \"GenNucGER\", Dict{Any, Any}()),\n",
    "    DataElement(\"Arrow\", \"BaseArrow\", \"PowerBalance_NO2\", Dict{Any, Any}(\"Balance\" => \"PowerBalance_NO2\", \"Flow\" => \"GenNucGER\", \"Conversion\" => 1.0, \"Direction\" => \"In\")),\n",
    "    DataElement(\"Cost\", \"CostTerm\", \"MCNucGER\", Dict{Any, Any}(\"Param\" => GenNucGER, \"WhichInstance\" => \"GenNucGER\", \"WhichConcept\" => \"Flow\", \"Direction\" => \"In\")),\n",
    "    DataElement(\"Capacity\", \"PositiveCapacity\", \"CapNucGER\", Dict{Any, Any}(\"Param\" => \"CapNucGER\", \"WhichInstance\" => \"GenNucGER\", \"WhichConcept\" => \"Flow\", \"Bound\" => \"Upper\")),\n",
    "    DataElement(\"Param\", \"MWToGWhSeriesParam\", \"CapNucGER\", Dict{Any, Any}(\"Level\" => CapNucGER, \"Profile\" => 1.0)),\n",
    "\n",
    "    DataElement(\"Param\", \"MeanSeriesParam\", \"FirmDemand\", Dict{Any, Any}(\"Level\" => firm_demand, \"Profile\" => 1.0)),\n",
    "    \n",
    "    DataElement(\"Elastic_demand_concept\", \"ElasticPowerDemand\", \"ElasticPowerDemand_1\", \n",
    "                Dict{Any, Any}(\"Balance\" => \"PowerBalance_NO2\", \"Param\" => \"FirmDemand\",\n",
    "                \"price_elasticity\" => price_elasticity, \"normal_price\" => normal_price , \"max_price\" => max_price, \"min_price\" => min_price\n",
    "    ))   \n",
    "        \n",
    "]\n",
    "\n",
    "power_horizon = SequentialHorizon(1, Day(1))\n",
    "push!(elements, getelement(COMMODITY_CONCEPT, \"BaseCommodity\", \"Power\", (HORIZON_CONCEPT, power_horizon)))\n",
    "addscenariotimeperiod!(elements, \"ScenarioTimePeriod\", getisoyearstart(1981), getisoyearstart(1983));"
   ]
  },
  {
   "cell_type": "code",
   "execution_count": 11,
   "id": "858b4902",
   "metadata": {},
   "outputs": [
    {
     "data": {
      "text/plain": [
       "Dict{Id, Any} with 3 entries:\n",
       "  Id(\"Elastic_demand_conce… => ElasticPowerDemand(Id(\"Elastic_demand_concept\", …\n",
       "  Id(\"Flow\", \"GenNucGER\")   => BaseFlow(Id(\"Flow\", \"GenNucGER\"), SequentialHori…\n",
       "  Id(\"Balance\", \"PowerBala… => BaseBalance(Id(\"Balance\", \"PowerBalance_NO2\"), B…"
      ]
     },
     "execution_count": 11,
     "metadata": {},
     "output_type": "execute_result"
    }
   ],
   "source": [
    "modelobjects = getmodelobjects(elements)"
   ]
  },
  {
   "cell_type": "code",
   "execution_count": 12,
   "id": "1ec67aba",
   "metadata": {},
   "outputs": [
    {
     "data": {
      "text/plain": [
       "JuMP_Prob(A JuMP Model\n",
       "Minimization problem with:\n",
       "Variables: 11\n",
       "Objective function type: AffExpr\n",
       "`AffExpr`-in-`MathOptInterface.EqualTo{Float64}`: 1 constraint\n",
       "`VariableRef`-in-`MathOptInterface.GreaterThan{Float64}`: 1 constraint\n",
       "`VariableRef`-in-`MathOptInterface.LessThan{Float64}`: 1 constraint\n",
       "Model mode: AUTOMATIC\n",
       "CachingOptimizer state: EMPTY_OPTIMIZER\n",
       "Solver name: HiGHS\n",
       "Names registered in the model: BalancePowerBalance_NO2, Elastic_demand_conceptElasticPowerDemand_11, Elastic_demand_conceptElasticPowerDemand_110, Elastic_demand_conceptElasticPowerDemand_12, Elastic_demand_conceptElasticPowerDemand_13, Elastic_demand_conceptElasticPowerDemand_14, Elastic_demand_conceptElasticPowerDemand_15, Elastic_demand_conceptElasticPowerDemand_16, Elastic_demand_conceptElasticPowerDemand_17, Elastic_demand_conceptElasticPowerDemand_18, Elastic_demand_conceptElasticPowerDemand_19, FlowGenNucGER, Any[ElasticPowerDemand(Id(\"Elastic_demand_concept\", \"ElasticPowerDemand_1\"), BaseBalance(Id(\"Balance\", \"PowerBalance_NO2\"), BaseCommodity(Id(\"Commodity\", \"Power\"), SequentialHorizon(SequentialPeriods([(1, Millisecond(86400000))]), nothing)), SequentialHorizon(SequentialPeriods([(1, Millisecond(86400000))]), nothing), RHSTerm[], Dict{Any, Any}()), MeanSeriesParam{ConstantTimeVector, ConstantTimeVector}(ConstantTimeVector(50.0), ConstantTimeVector(1.0)), 100.0, -0.05, 50.0, 150.0, 10, [0.9799308653125577, 0.0061482287254244206, 0.0061482287254244206, 0.0061482287254244206, 0.006148228725424532, 0.0061482287254244206, 0.0061482287254244206, 0.0061482287254244206, 0.0061482287254244206, 0.0061482287254244206], [150.0, 132.36250339174748, 116.88973151897457, 103.3049788729802, 91.36830194738208, 80.87145236673335, 71.63353328446973, 63.49727229259427, 56.32582035624962, 49.99999999999993]), BaseFlow(Id(\"Flow\", \"GenNucGER\"), SequentialHorizon(SequentialPeriods([(1, Millisecond(86400000))]), nothing), PositiveCapacity(Id(\"Capacity\", \"CapNucGER\"), MWToGWhSeriesParam{ConstantTimeVector, ConstantTimeVector}(ConstantTimeVector(5000.0), ConstantTimeVector(1.0)), true), LowerZeroCapacity(), Cost[CostTerm(Id(\"Cost\", \"MCNucGER\"), ConstantParam{Float64}(100.0), true)], SumCost(Cost[CostTerm(Id(\"Cost\", \"MCNucGER\"), ConstantParam{Float64}(100.0), true)], [100.0;;], Bool[1]), Arrow[BaseArrow(Id(\"Arrow\", \"PowerBalance_NO2\"), BaseBalance(Id(\"Balance\", \"PowerBalance_NO2\"), BaseCommodity(Id(\"Commodity\", \"Power\"), SequentialHorizon(SequentialPeriods([(1, Millisecond(86400000))]), nothing)), SequentialHorizon(SequentialPeriods([(1, Millisecond(86400000))]), nothing), RHSTerm[], Dict{Any, Any}()), BaseConversion(ConstantParam{Float64}(1.0)), nothing, true)], Dict{Any, Any}()), BaseBalance(Id(\"Balance\", \"PowerBalance_NO2\"), BaseCommodity(Id(\"Commodity\", \"Power\"), SequentialHorizon(SequentialPeriods([(1, Millisecond(86400000))]), nothing)), SequentialHorizon(SequentialPeriods([(1, Millisecond(86400000))]), nothing), RHSTerm[], Dict{Any, Any}())], Horizon[SequentialHorizon(SequentialPeriods([(1, Millisecond(86400000))]), nothing)], Dict{Any, Any}(Id(\"Balance\", \"PowerBalance_NO2\") => Dict{Any, Float64}[Dict()]), false)"
      ]
     },
     "execution_count": 12,
     "metadata": {},
     "output_type": "execute_result"
    }
   ],
   "source": [
    "mymodel = JuMP.Model(HiGHS.Optimizer)\n",
    "prob = JuMP_Prob(modelobjects, mymodel)"
   ]
  },
  {
   "cell_type": "code",
   "execution_count": 13,
   "id": "6163685d",
   "metadata": {},
   "outputs": [
    {
     "name": "stdout",
     "output_type": "stream",
     "text": [
      "segment_capacities [0.9799308653125577, 0.0061482287254244206, 0.0061482287254244206, 0.0061482287254244206, 0.006148228725424532, 0.0061482287254244206, 0.0061482287254244206, 0.0061482287254244206, 0.0061482287254244206, 0.0061482287254244206]\n",
      "reserve_prices [150.0, 132.36250339174748, 116.88973151897457, 103.3049788729802, 91.36830194738208, 80.87145236673335, 71.63353328446973, 63.49727229259427, 56.32582035624962, 49.99999999999993]\n"
     ]
    }
   ],
   "source": [
    "for (i, v) in enumerate(prob.objects)\n",
    "    if v.id == Id(\"Elastic_demand_concept\", \"ElasticPowerDemand_1\")\n",
    "        println(\"segment_capacities \", v.segment_capacities)\n",
    "        println(\"reserve_prices \", v.reserve_prices)\n",
    "    end\n",
    "end;"
   ]
  },
  {
   "cell_type": "code",
   "execution_count": 14,
   "id": "689917b0",
   "metadata": {},
   "outputs": [
    {
     "data": {
      "text/plain": [
       "(0.9900990099009901, 0.9995026071981749)"
      ]
     },
     "execution_count": 14,
     "metadata": {},
     "output_type": "execute_result"
    }
   ],
   "source": [
    "# Price increase by 1% from normal price, then demand decrease 1%, with ealsticity = -1\n",
    "p1 = price_to_relative_demand(100, -1.0, 101)\n",
    "\n",
    "# Price increase by 1% from normal price, then demand decrease 0.05%, with ealsticity = -0.05\n",
    "p2 = price_to_relative_demand(100, -0.05, 101)\n",
    "\n",
    "p1, p2"
   ]
  },
  {
   "cell_type": "code",
   "execution_count": 15,
   "id": "9510684c",
   "metadata": {},
   "outputs": [],
   "source": [
    "datatime = getisoyearstart(2023)\n",
    "scenariotime = getisoyearstart(1981)\n",
    "prob_time = TwoTime(datatime, scenariotime)\n",
    "update!(prob, prob_time)\n",
    "solve!(prob)"
   ]
  },
  {
   "cell_type": "code",
   "execution_count": 16,
   "id": "6c3c4bd6",
   "metadata": {},
   "outputs": [
    {
     "data": {
      "text/latex": [
       "$$ \\begin{aligned}\n",
       "\\min\\quad & -150 Elastic\\_demand\\_conceptElasticPowerDemand\\_11_{1} - 132.36250339174748 Elastic\\_demand\\_conceptElasticPowerDemand\\_12_{1} - 116.88973151897457 Elastic\\_demand\\_conceptElasticPowerDemand\\_13_{1} - 103.3049788729802 Elastic\\_demand\\_conceptElasticPowerDemand\\_14_{1} - 91.36830194738208 Elastic\\_demand\\_conceptElasticPowerDemand\\_15_{1} - 80.87145236673335 Elastic\\_demand\\_conceptElasticPowerDemand\\_16_{1} - 71.63353328446973 Elastic\\_demand\\_conceptElasticPowerDemand\\_17_{1} - 63.49727229259427 Elastic\\_demand\\_conceptElasticPowerDemand\\_18_{1} - 56.32582035624962 Elastic\\_demand\\_conceptElasticPowerDemand\\_19_{1} - 49.99999999999993 Elastic\\_demand\\_conceptElasticPowerDemand\\_110_{1} + 100 FlowGenNucGER_{1}\\\\\n",
       "\\text{Subject to} \\quad & Elastic\\_demand\\_conceptElasticPowerDemand\\_11_{1} + Elastic\\_demand\\_conceptElasticPowerDemand\\_12_{1} + Elastic\\_demand\\_conceptElasticPowerDemand\\_13_{1} + Elastic\\_demand\\_conceptElasticPowerDemand\\_14_{1} + Elastic\\_demand\\_conceptElasticPowerDemand\\_15_{1} + Elastic\\_demand\\_conceptElasticPowerDemand\\_16_{1} + Elastic\\_demand\\_conceptElasticPowerDemand\\_17_{1} + Elastic\\_demand\\_conceptElasticPowerDemand\\_18_{1} + Elastic\\_demand\\_conceptElasticPowerDemand\\_19_{1} + Elastic\\_demand\\_conceptElasticPowerDemand\\_110_{1} - FlowGenNucGER_{1} = 0\\\\\n",
       " & Elastic\\_demand\\_conceptElasticPowerDemand\\_11_{1} \\geq 0\\\\\n",
       " & Elastic\\_demand\\_conceptElasticPowerDemand\\_12_{1} \\geq 0\\\\\n",
       " & Elastic\\_demand\\_conceptElasticPowerDemand\\_13_{1} \\geq 0\\\\\n",
       " & Elastic\\_demand\\_conceptElasticPowerDemand\\_14_{1} \\geq 0\\\\\n",
       " & Elastic\\_demand\\_conceptElasticPowerDemand\\_15_{1} \\geq 0\\\\\n",
       " & Elastic\\_demand\\_conceptElasticPowerDemand\\_16_{1} \\geq 0\\\\\n",
       " & Elastic\\_demand\\_conceptElasticPowerDemand\\_17_{1} \\geq 0\\\\\n",
       " & Elastic\\_demand\\_conceptElasticPowerDemand\\_18_{1} \\geq 0\\\\\n",
       " & Elastic\\_demand\\_conceptElasticPowerDemand\\_19_{1} \\geq 0\\\\\n",
       " & Elastic\\_demand\\_conceptElasticPowerDemand\\_110_{1} \\geq 0\\\\\n",
       " & FlowGenNucGER_{1} \\geq 0\\\\\n",
       " & Elastic\\_demand\\_conceptElasticPowerDemand\\_11_{1} \\leq 48.996543265627885\\\\\n",
       " & Elastic\\_demand\\_conceptElasticPowerDemand\\_12_{1} \\leq 0.30741143627122103\\\\\n",
       " & Elastic\\_demand\\_conceptElasticPowerDemand\\_13_{1} \\leq 0.30741143627122103\\\\\n",
       " & Elastic\\_demand\\_conceptElasticPowerDemand\\_14_{1} \\leq 0.30741143627122103\\\\\n",
       " & Elastic\\_demand\\_conceptElasticPowerDemand\\_15_{1} \\leq 0.3074114362712266\\\\\n",
       " & Elastic\\_demand\\_conceptElasticPowerDemand\\_16_{1} \\leq 0.30741143627122103\\\\\n",
       " & Elastic\\_demand\\_conceptElasticPowerDemand\\_17_{1} \\leq 0.30741143627122103\\\\\n",
       " & Elastic\\_demand\\_conceptElasticPowerDemand\\_18_{1} \\leq 0.30741143627122103\\\\\n",
       " & Elastic\\_demand\\_conceptElasticPowerDemand\\_19_{1} \\leq 0.30741143627122103\\\\\n",
       " & Elastic\\_demand\\_conceptElasticPowerDemand\\_110_{1} \\leq 0.30741143627122103\\\\\n",
       " & FlowGenNucGER_{1} \\leq 120\\\\\n",
       "\\end{aligned} $$"
      ]
     },
     "metadata": {},
     "output_type": "display_data"
    }
   ],
   "source": [
    "print(prob.model)"
   ]
  },
  {
   "cell_type": "code",
   "execution_count": 17,
   "id": "8863385a",
   "metadata": {},
   "outputs": [
    {
     "data": {
      "text/plain": [
       "* Solver : HiGHS\n",
       "\n",
       "* Status\n",
       "  Result count       : 1\n",
       "  Termination status : OPTIMAL\n",
       "  Message from the solver:\n",
       "  \"kHighsModelStatusOptimal\"\n",
       "\n",
       "* Candidate solution (result #1)\n",
       "  Primal status      : FEASIBLE_POINT\n",
       "  Dual status        : FEASIBLE_POINT\n",
       "  Objective value    : -2.46598e+03\n",
       "  Objective bound    : -2.46598e+03\n",
       "  Relative gap       : Inf\n",
       "  Dual objective value : -2.46598e+03\n",
       "  Primal solution :\n",
       "    Elastic_demand_conceptElasticPowerDemand_110[1] : 0.00000e+00\n",
       "    Elastic_demand_conceptElasticPowerDemand_11[1] : 4.89965e+01\n",
       "    Elastic_demand_conceptElasticPowerDemand_12[1] : 3.07411e-01\n",
       "    Elastic_demand_conceptElasticPowerDemand_13[1] : 3.07411e-01\n",
       "    Elastic_demand_conceptElasticPowerDemand_14[1] : 3.07411e-01\n",
       "    Elastic_demand_conceptElasticPowerDemand_15[1] : 0.00000e+00\n",
       "    Elastic_demand_conceptElasticPowerDemand_16[1] : 0.00000e+00\n",
       "    Elastic_demand_conceptElasticPowerDemand_17[1] : 0.00000e+00\n",
       "    Elastic_demand_conceptElasticPowerDemand_18[1] : 0.00000e+00\n",
       "    Elastic_demand_conceptElasticPowerDemand_19[1] : 0.00000e+00\n",
       "    FlowGenNucGER[1] : 4.99188e+01\n",
       "  Dual solution :\n",
       "    BalancePowerBalance_NO2[1] : -1.00000e+02\n",
       "\n",
       "* Work counters\n",
       "  Solve time (sec)   : 4.98295e-04\n",
       "  Simplex iterations : 0\n",
       "  Barrier iterations : 0\n",
       "  Node count         : -1\n"
      ]
     },
     "execution_count": 17,
     "metadata": {},
     "output_type": "execute_result"
    }
   ],
   "source": [
    "solution_summary(prob.model, verbose = true)"
   ]
  },
  {
   "cell_type": "code",
   "execution_count": null,
   "id": "c54629f1",
   "metadata": {},
   "outputs": [],
   "source": []
  }
 ],
 "metadata": {
  "kernelspec": {
   "display_name": "Julia 1.9",
   "language": "julia",
   "name": "julia-1.9"
  },
  "language_info": {
   "file_extension": ".jl",
   "mimetype": "application/julia",
   "name": "julia",
   "version": "1.9.2"
  }
 },
 "nbformat": 4,
 "nbformat_minor": 5
}
